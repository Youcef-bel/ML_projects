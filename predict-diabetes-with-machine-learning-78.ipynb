{
 "cells": [
  {
   "cell_type": "code",
   "execution_count": 1,
   "id": "30dca4ad",
   "metadata": {
    "_cell_guid": "b1076dfc-b9ad-4769-8c92-a6c4dae69d19",
    "_uuid": "8f2839f25d086af736a60e9eeb907d3b93b6e0e5",
    "execution": {
     "iopub.execute_input": "2022-12-25T14:03:04.475705Z",
     "iopub.status.busy": "2022-12-25T14:03:04.474784Z",
     "iopub.status.idle": "2022-12-25T14:03:04.503085Z",
     "shell.execute_reply": "2022-12-25T14:03:04.501826Z"
    },
    "papermill": {
     "duration": 0.043376,
     "end_time": "2022-12-25T14:03:04.505726",
     "exception": false,
     "start_time": "2022-12-25T14:03:04.462350",
     "status": "completed"
    },
    "tags": []
   },
   "outputs": [
    {
     "name": "stdout",
     "output_type": "stream",
     "text": [
      "/kaggle/input/predict-diabities/diabetes.csv\n"
     ]
    }
   ],
   "source": [
    "# This Python 3 environment comes with many helpful analytics libraries installed\n",
    "# It is defined by the kaggle/python Docker image: https://github.com/kaggle/docker-python\n",
    "# For example, here's several helpful packages to load\n",
    "\n",
    "import numpy as np # linear algebra\n",
    "import pandas as pd # data processing, CSV file I/O (e.g. pd.read_csv)\n",
    "\n",
    "# Input data files are available in the read-only \"../input/\" directory\n",
    "# For example, running this (by clicking run or pressing Shift+Enter) will list all files under the input directory\n",
    "\n",
    "import os\n",
    "for dirname, _, filenames in os.walk('/kaggle/input'):\n",
    "    for filename in filenames:\n",
    "        print(os.path.join(dirname, filename))\n",
    "\n",
    "# You can write up to 20GB to the current directory (/kaggle/working/) that gets preserved as output when you create a version using \"Save & Run All\" \n",
    "# You can also write temporary files to /kaggle/temp/, but they won't be saved outside of the current session"
   ]
  },
  {
   "cell_type": "code",
   "execution_count": 2,
   "id": "860b3c3f",
   "metadata": {
    "execution": {
     "iopub.execute_input": "2022-12-25T14:03:04.525587Z",
     "iopub.status.busy": "2022-12-25T14:03:04.525161Z",
     "iopub.status.idle": "2022-12-25T14:03:05.706758Z",
     "shell.execute_reply": "2022-12-25T14:03:05.705752Z"
    },
    "papermill": {
     "duration": 1.194445,
     "end_time": "2022-12-25T14:03:05.709381",
     "exception": false,
     "start_time": "2022-12-25T14:03:04.514936",
     "status": "completed"
    },
    "tags": []
   },
   "outputs": [],
   "source": [
    "import matplotlib.pyplot as plt\n",
    "import seaborn as sns"
   ]
  },
  {
   "cell_type": "code",
   "execution_count": 3,
   "id": "f3a7f463",
   "metadata": {
    "execution": {
     "iopub.execute_input": "2022-12-25T14:03:05.729517Z",
     "iopub.status.busy": "2022-12-25T14:03:05.729065Z",
     "iopub.status.idle": "2022-12-25T14:03:05.749396Z",
     "shell.execute_reply": "2022-12-25T14:03:05.748310Z"
    },
    "papermill": {
     "duration": 0.032919,
     "end_time": "2022-12-25T14:03:05.751966",
     "exception": false,
     "start_time": "2022-12-25T14:03:05.719047",
     "status": "completed"
    },
    "tags": []
   },
   "outputs": [],
   "source": [
    "df=pd.read_csv('/kaggle/input/predict-diabities/diabetes.csv')"
   ]
  },
  {
   "cell_type": "code",
   "execution_count": 4,
   "id": "4180b31b",
   "metadata": {
    "execution": {
     "iopub.execute_input": "2022-12-25T14:03:05.771469Z",
     "iopub.status.busy": "2022-12-25T14:03:05.771056Z",
     "iopub.status.idle": "2022-12-25T14:03:05.796801Z",
     "shell.execute_reply": "2022-12-25T14:03:05.795993Z"
    },
    "papermill": {
     "duration": 0.038538,
     "end_time": "2022-12-25T14:03:05.799315",
     "exception": false,
     "start_time": "2022-12-25T14:03:05.760777",
     "status": "completed"
    },
    "tags": []
   },
   "outputs": [
    {
     "name": "stdout",
     "output_type": "stream",
     "text": [
      "<class 'pandas.core.frame.DataFrame'>\n",
      "RangeIndex: 768 entries, 0 to 767\n",
      "Data columns (total 9 columns):\n",
      " #   Column                    Non-Null Count  Dtype  \n",
      "---  ------                    --------------  -----  \n",
      " 0   Pregnancies               768 non-null    int64  \n",
      " 1   Glucose                   768 non-null    int64  \n",
      " 2   BloodPressure             768 non-null    int64  \n",
      " 3   SkinThickness             768 non-null    int64  \n",
      " 4   Insulin                   768 non-null    int64  \n",
      " 5   BMI                       768 non-null    float64\n",
      " 6   DiabetesPedigreeFunction  768 non-null    float64\n",
      " 7   Age                       768 non-null    int64  \n",
      " 8   Outcome                   768 non-null    int64  \n",
      "dtypes: float64(2), int64(7)\n",
      "memory usage: 54.1 KB\n"
     ]
    }
   ],
   "source": [
    "df.info()"
   ]
  },
  {
   "cell_type": "code",
   "execution_count": 5,
   "id": "887a0123",
   "metadata": {
    "execution": {
     "iopub.execute_input": "2022-12-25T14:03:05.821655Z",
     "iopub.status.busy": "2022-12-25T14:03:05.820452Z",
     "iopub.status.idle": "2022-12-25T14:03:05.828995Z",
     "shell.execute_reply": "2022-12-25T14:03:05.828041Z"
    },
    "papermill": {
     "duration": 0.021371,
     "end_time": "2022-12-25T14:03:05.831519",
     "exception": false,
     "start_time": "2022-12-25T14:03:05.810148",
     "status": "completed"
    },
    "tags": []
   },
   "outputs": [],
   "source": [
    "df.loc[df['Age'] <40, 'Category'] = 'Adults'\n",
    "df.loc[df['Age'] >65, 'Category'] = 'Old'"
   ]
  },
  {
   "cell_type": "code",
   "execution_count": 6,
   "id": "86951cfc",
   "metadata": {
    "execution": {
     "iopub.execute_input": "2022-12-25T14:03:05.851509Z",
     "iopub.status.busy": "2022-12-25T14:03:05.850788Z",
     "iopub.status.idle": "2022-12-25T14:03:05.856338Z",
     "shell.execute_reply": "2022-12-25T14:03:05.855262Z"
    },
    "papermill": {
     "duration": 0.018349,
     "end_time": "2022-12-25T14:03:05.858812",
     "exception": false,
     "start_time": "2022-12-25T14:03:05.840463",
     "status": "completed"
    },
    "tags": []
   },
   "outputs": [],
   "source": [
    "df['Category']=df['Category'].fillna('Mid-age')"
   ]
  },
  {
   "cell_type": "code",
   "execution_count": 7,
   "id": "7e523ac1",
   "metadata": {
    "execution": {
     "iopub.execute_input": "2022-12-25T14:03:05.878588Z",
     "iopub.status.busy": "2022-12-25T14:03:05.878188Z",
     "iopub.status.idle": "2022-12-25T14:03:05.899217Z",
     "shell.execute_reply": "2022-12-25T14:03:05.898004Z"
    },
    "papermill": {
     "duration": 0.033922,
     "end_time": "2022-12-25T14:03:05.901786",
     "exception": false,
     "start_time": "2022-12-25T14:03:05.867864",
     "status": "completed"
    },
    "tags": []
   },
   "outputs": [
    {
     "data": {
      "text/html": [
       "<div>\n",
       "<style scoped>\n",
       "    .dataframe tbody tr th:only-of-type {\n",
       "        vertical-align: middle;\n",
       "    }\n",
       "\n",
       "    .dataframe tbody tr th {\n",
       "        vertical-align: top;\n",
       "    }\n",
       "\n",
       "    .dataframe thead th {\n",
       "        text-align: right;\n",
       "    }\n",
       "</style>\n",
       "<table border=\"1\" class=\"dataframe\">\n",
       "  <thead>\n",
       "    <tr style=\"text-align: right;\">\n",
       "      <th></th>\n",
       "      <th>Pregnancies</th>\n",
       "      <th>Glucose</th>\n",
       "      <th>BloodPressure</th>\n",
       "      <th>SkinThickness</th>\n",
       "      <th>Insulin</th>\n",
       "      <th>BMI</th>\n",
       "      <th>DiabetesPedigreeFunction</th>\n",
       "      <th>Age</th>\n",
       "      <th>Outcome</th>\n",
       "      <th>Category</th>\n",
       "    </tr>\n",
       "  </thead>\n",
       "  <tbody>\n",
       "    <tr>\n",
       "      <th>0</th>\n",
       "      <td>6</td>\n",
       "      <td>148</td>\n",
       "      <td>72</td>\n",
       "      <td>35</td>\n",
       "      <td>0</td>\n",
       "      <td>33.6</td>\n",
       "      <td>0.627</td>\n",
       "      <td>50</td>\n",
       "      <td>1</td>\n",
       "      <td>Mid-age</td>\n",
       "    </tr>\n",
       "    <tr>\n",
       "      <th>1</th>\n",
       "      <td>1</td>\n",
       "      <td>85</td>\n",
       "      <td>66</td>\n",
       "      <td>29</td>\n",
       "      <td>0</td>\n",
       "      <td>26.6</td>\n",
       "      <td>0.351</td>\n",
       "      <td>31</td>\n",
       "      <td>0</td>\n",
       "      <td>Adults</td>\n",
       "    </tr>\n",
       "    <tr>\n",
       "      <th>2</th>\n",
       "      <td>8</td>\n",
       "      <td>183</td>\n",
       "      <td>64</td>\n",
       "      <td>0</td>\n",
       "      <td>0</td>\n",
       "      <td>23.3</td>\n",
       "      <td>0.672</td>\n",
       "      <td>32</td>\n",
       "      <td>1</td>\n",
       "      <td>Adults</td>\n",
       "    </tr>\n",
       "    <tr>\n",
       "      <th>3</th>\n",
       "      <td>1</td>\n",
       "      <td>89</td>\n",
       "      <td>66</td>\n",
       "      <td>23</td>\n",
       "      <td>94</td>\n",
       "      <td>28.1</td>\n",
       "      <td>0.167</td>\n",
       "      <td>21</td>\n",
       "      <td>0</td>\n",
       "      <td>Adults</td>\n",
       "    </tr>\n",
       "    <tr>\n",
       "      <th>4</th>\n",
       "      <td>0</td>\n",
       "      <td>137</td>\n",
       "      <td>40</td>\n",
       "      <td>35</td>\n",
       "      <td>168</td>\n",
       "      <td>43.1</td>\n",
       "      <td>2.288</td>\n",
       "      <td>33</td>\n",
       "      <td>1</td>\n",
       "      <td>Adults</td>\n",
       "    </tr>\n",
       "  </tbody>\n",
       "</table>\n",
       "</div>"
      ],
      "text/plain": [
       "   Pregnancies  Glucose  BloodPressure  SkinThickness  Insulin   BMI  \\\n",
       "0            6      148             72             35        0  33.6   \n",
       "1            1       85             66             29        0  26.6   \n",
       "2            8      183             64              0        0  23.3   \n",
       "3            1       89             66             23       94  28.1   \n",
       "4            0      137             40             35      168  43.1   \n",
       "\n",
       "   DiabetesPedigreeFunction  Age  Outcome Category  \n",
       "0                     0.627   50        1  Mid-age  \n",
       "1                     0.351   31        0   Adults  \n",
       "2                     0.672   32        1   Adults  \n",
       "3                     0.167   21        0   Adults  \n",
       "4                     2.288   33        1   Adults  "
      ]
     },
     "execution_count": 7,
     "metadata": {},
     "output_type": "execute_result"
    }
   ],
   "source": [
    "df.head()"
   ]
  },
  {
   "cell_type": "code",
   "execution_count": 8,
   "id": "e31b67eb",
   "metadata": {
    "execution": {
     "iopub.execute_input": "2022-12-25T14:03:05.921977Z",
     "iopub.status.busy": "2022-12-25T14:03:05.921519Z",
     "iopub.status.idle": "2022-12-25T14:03:05.926855Z",
     "shell.execute_reply": "2022-12-25T14:03:05.925946Z"
    },
    "papermill": {
     "duration": 0.017864,
     "end_time": "2022-12-25T14:03:05.928981",
     "exception": false,
     "start_time": "2022-12-25T14:03:05.911117",
     "status": "completed"
    },
    "tags": []
   },
   "outputs": [],
   "source": [
    "df1=df['Outcome']==1"
   ]
  },
  {
   "cell_type": "code",
   "execution_count": 9,
   "id": "8bbadcfc",
   "metadata": {
    "execution": {
     "iopub.execute_input": "2022-12-25T14:03:05.949812Z",
     "iopub.status.busy": "2022-12-25T14:03:05.949183Z",
     "iopub.status.idle": "2022-12-25T14:03:05.955804Z",
     "shell.execute_reply": "2022-12-25T14:03:05.954790Z"
    },
    "papermill": {
     "duration": 0.019844,
     "end_time": "2022-12-25T14:03:05.958254",
     "exception": false,
     "start_time": "2022-12-25T14:03:05.938410",
     "status": "completed"
    },
    "tags": []
   },
   "outputs": [],
   "source": [
    "df1=df[df1]"
   ]
  },
  {
   "cell_type": "code",
   "execution_count": 10,
   "id": "153827ef",
   "metadata": {
    "execution": {
     "iopub.execute_input": "2022-12-25T14:03:05.979191Z",
     "iopub.status.busy": "2022-12-25T14:03:05.977803Z",
     "iopub.status.idle": "2022-12-25T14:03:05.996946Z",
     "shell.execute_reply": "2022-12-25T14:03:05.995994Z"
    },
    "papermill": {
     "duration": 0.031744,
     "end_time": "2022-12-25T14:03:05.999228",
     "exception": false,
     "start_time": "2022-12-25T14:03:05.967484",
     "status": "completed"
    },
    "tags": []
   },
   "outputs": [
    {
     "data": {
      "text/html": [
       "<div>\n",
       "<style scoped>\n",
       "    .dataframe tbody tr th:only-of-type {\n",
       "        vertical-align: middle;\n",
       "    }\n",
       "\n",
       "    .dataframe tbody tr th {\n",
       "        vertical-align: top;\n",
       "    }\n",
       "\n",
       "    .dataframe thead th {\n",
       "        text-align: right;\n",
       "    }\n",
       "</style>\n",
       "<table border=\"1\" class=\"dataframe\">\n",
       "  <thead>\n",
       "    <tr style=\"text-align: right;\">\n",
       "      <th></th>\n",
       "      <th>Pregnancies</th>\n",
       "      <th>Glucose</th>\n",
       "      <th>BloodPressure</th>\n",
       "      <th>SkinThickness</th>\n",
       "      <th>Insulin</th>\n",
       "      <th>BMI</th>\n",
       "      <th>DiabetesPedigreeFunction</th>\n",
       "      <th>Age</th>\n",
       "      <th>Outcome</th>\n",
       "      <th>Category</th>\n",
       "    </tr>\n",
       "  </thead>\n",
       "  <tbody>\n",
       "    <tr>\n",
       "      <th>0</th>\n",
       "      <td>6</td>\n",
       "      <td>148</td>\n",
       "      <td>72</td>\n",
       "      <td>35</td>\n",
       "      <td>0</td>\n",
       "      <td>33.6</td>\n",
       "      <td>0.627</td>\n",
       "      <td>50</td>\n",
       "      <td>1</td>\n",
       "      <td>Mid-age</td>\n",
       "    </tr>\n",
       "    <tr>\n",
       "      <th>2</th>\n",
       "      <td>8</td>\n",
       "      <td>183</td>\n",
       "      <td>64</td>\n",
       "      <td>0</td>\n",
       "      <td>0</td>\n",
       "      <td>23.3</td>\n",
       "      <td>0.672</td>\n",
       "      <td>32</td>\n",
       "      <td>1</td>\n",
       "      <td>Adults</td>\n",
       "    </tr>\n",
       "    <tr>\n",
       "      <th>4</th>\n",
       "      <td>0</td>\n",
       "      <td>137</td>\n",
       "      <td>40</td>\n",
       "      <td>35</td>\n",
       "      <td>168</td>\n",
       "      <td>43.1</td>\n",
       "      <td>2.288</td>\n",
       "      <td>33</td>\n",
       "      <td>1</td>\n",
       "      <td>Adults</td>\n",
       "    </tr>\n",
       "    <tr>\n",
       "      <th>6</th>\n",
       "      <td>3</td>\n",
       "      <td>78</td>\n",
       "      <td>50</td>\n",
       "      <td>32</td>\n",
       "      <td>88</td>\n",
       "      <td>31.0</td>\n",
       "      <td>0.248</td>\n",
       "      <td>26</td>\n",
       "      <td>1</td>\n",
       "      <td>Adults</td>\n",
       "    </tr>\n",
       "    <tr>\n",
       "      <th>8</th>\n",
       "      <td>2</td>\n",
       "      <td>197</td>\n",
       "      <td>70</td>\n",
       "      <td>45</td>\n",
       "      <td>543</td>\n",
       "      <td>30.5</td>\n",
       "      <td>0.158</td>\n",
       "      <td>53</td>\n",
       "      <td>1</td>\n",
       "      <td>Mid-age</td>\n",
       "    </tr>\n",
       "    <tr>\n",
       "      <th>...</th>\n",
       "      <td>...</td>\n",
       "      <td>...</td>\n",
       "      <td>...</td>\n",
       "      <td>...</td>\n",
       "      <td>...</td>\n",
       "      <td>...</td>\n",
       "      <td>...</td>\n",
       "      <td>...</td>\n",
       "      <td>...</td>\n",
       "      <td>...</td>\n",
       "    </tr>\n",
       "    <tr>\n",
       "      <th>755</th>\n",
       "      <td>1</td>\n",
       "      <td>128</td>\n",
       "      <td>88</td>\n",
       "      <td>39</td>\n",
       "      <td>110</td>\n",
       "      <td>36.5</td>\n",
       "      <td>1.057</td>\n",
       "      <td>37</td>\n",
       "      <td>1</td>\n",
       "      <td>Adults</td>\n",
       "    </tr>\n",
       "    <tr>\n",
       "      <th>757</th>\n",
       "      <td>0</td>\n",
       "      <td>123</td>\n",
       "      <td>72</td>\n",
       "      <td>0</td>\n",
       "      <td>0</td>\n",
       "      <td>36.3</td>\n",
       "      <td>0.258</td>\n",
       "      <td>52</td>\n",
       "      <td>1</td>\n",
       "      <td>Mid-age</td>\n",
       "    </tr>\n",
       "    <tr>\n",
       "      <th>759</th>\n",
       "      <td>6</td>\n",
       "      <td>190</td>\n",
       "      <td>92</td>\n",
       "      <td>0</td>\n",
       "      <td>0</td>\n",
       "      <td>35.5</td>\n",
       "      <td>0.278</td>\n",
       "      <td>66</td>\n",
       "      <td>1</td>\n",
       "      <td>Old</td>\n",
       "    </tr>\n",
       "    <tr>\n",
       "      <th>761</th>\n",
       "      <td>9</td>\n",
       "      <td>170</td>\n",
       "      <td>74</td>\n",
       "      <td>31</td>\n",
       "      <td>0</td>\n",
       "      <td>44.0</td>\n",
       "      <td>0.403</td>\n",
       "      <td>43</td>\n",
       "      <td>1</td>\n",
       "      <td>Mid-age</td>\n",
       "    </tr>\n",
       "    <tr>\n",
       "      <th>766</th>\n",
       "      <td>1</td>\n",
       "      <td>126</td>\n",
       "      <td>60</td>\n",
       "      <td>0</td>\n",
       "      <td>0</td>\n",
       "      <td>30.1</td>\n",
       "      <td>0.349</td>\n",
       "      <td>47</td>\n",
       "      <td>1</td>\n",
       "      <td>Mid-age</td>\n",
       "    </tr>\n",
       "  </tbody>\n",
       "</table>\n",
       "<p>268 rows × 10 columns</p>\n",
       "</div>"
      ],
      "text/plain": [
       "     Pregnancies  Glucose  BloodPressure  SkinThickness  Insulin   BMI  \\\n",
       "0              6      148             72             35        0  33.6   \n",
       "2              8      183             64              0        0  23.3   \n",
       "4              0      137             40             35      168  43.1   \n",
       "6              3       78             50             32       88  31.0   \n",
       "8              2      197             70             45      543  30.5   \n",
       "..           ...      ...            ...            ...      ...   ...   \n",
       "755            1      128             88             39      110  36.5   \n",
       "757            0      123             72              0        0  36.3   \n",
       "759            6      190             92              0        0  35.5   \n",
       "761            9      170             74             31        0  44.0   \n",
       "766            1      126             60              0        0  30.1   \n",
       "\n",
       "     DiabetesPedigreeFunction  Age  Outcome Category  \n",
       "0                       0.627   50        1  Mid-age  \n",
       "2                       0.672   32        1   Adults  \n",
       "4                       2.288   33        1   Adults  \n",
       "6                       0.248   26        1   Adults  \n",
       "8                       0.158   53        1  Mid-age  \n",
       "..                        ...  ...      ...      ...  \n",
       "755                     1.057   37        1   Adults  \n",
       "757                     0.258   52        1  Mid-age  \n",
       "759                     0.278   66        1      Old  \n",
       "761                     0.403   43        1  Mid-age  \n",
       "766                     0.349   47        1  Mid-age  \n",
       "\n",
       "[268 rows x 10 columns]"
      ]
     },
     "execution_count": 10,
     "metadata": {},
     "output_type": "execute_result"
    }
   ],
   "source": [
    "df1"
   ]
  },
  {
   "cell_type": "code",
   "execution_count": 11,
   "id": "dc0404ff",
   "metadata": {
    "execution": {
     "iopub.execute_input": "2022-12-25T14:03:06.020883Z",
     "iopub.status.busy": "2022-12-25T14:03:06.020143Z",
     "iopub.status.idle": "2022-12-25T14:03:06.025826Z",
     "shell.execute_reply": "2022-12-25T14:03:06.024716Z"
    },
    "papermill": {
     "duration": 0.019126,
     "end_time": "2022-12-25T14:03:06.028126",
     "exception": false,
     "start_time": "2022-12-25T14:03:06.009000",
     "status": "completed"
    },
    "tags": []
   },
   "outputs": [],
   "source": [
    "df1=df1[['Category','Outcome']]"
   ]
  },
  {
   "cell_type": "code",
   "execution_count": 12,
   "id": "f08f4b1f",
   "metadata": {
    "execution": {
     "iopub.execute_input": "2022-12-25T14:03:06.048903Z",
     "iopub.status.busy": "2022-12-25T14:03:06.048450Z",
     "iopub.status.idle": "2022-12-25T14:03:06.056138Z",
     "shell.execute_reply": "2022-12-25T14:03:06.054859Z"
    },
    "papermill": {
     "duration": 0.020545,
     "end_time": "2022-12-25T14:03:06.058339",
     "exception": false,
     "start_time": "2022-12-25T14:03:06.037794",
     "status": "completed"
    },
    "tags": []
   },
   "outputs": [],
   "source": [
    "df1=df1.groupby('Category').count()"
   ]
  },
  {
   "cell_type": "code",
   "execution_count": 13,
   "id": "a9f824d3",
   "metadata": {
    "execution": {
     "iopub.execute_input": "2022-12-25T14:03:06.079269Z",
     "iopub.status.busy": "2022-12-25T14:03:06.078586Z",
     "iopub.status.idle": "2022-12-25T14:03:06.380632Z",
     "shell.execute_reply": "2022-12-25T14:03:06.379608Z"
    },
    "papermill": {
     "duration": 0.315863,
     "end_time": "2022-12-25T14:03:06.383654",
     "exception": false,
     "start_time": "2022-12-25T14:03:06.067791",
     "status": "completed"
    },
    "tags": []
   },
   "outputs": [
    {
     "data": {
      "text/plain": [
       "<AxesSubplot:title={'center':'Number of diabetes per Age'}, xlabel='Category'>"
      ]
     },
     "execution_count": 13,
     "metadata": {},
     "output_type": "execute_result"
    },
    {
     "data": {
      "image/png": "[encoded data removed]",
      "text/plain": [
       "<Figure size 864x504 with 1 Axes>"
      ]
     },
     "metadata": {
      "needs_background": "light"
     },
     "output_type": "display_data"
    }
   ],
   "source": [
    "df1.plot(kind='bar',figsize=(12,7),title='Number of diabetes per Age')"
   ]
  },
  {
   "cell_type": "markdown",
   "id": "10998fce",
   "metadata": {
    "papermill": {
     "duration": 0.009497,
     "end_time": "2022-12-25T14:03:06.403141",
     "exception": false,
     "start_time": "2022-12-25T14:03:06.393644",
     "status": "completed"
    },
    "tags": []
   },
   "source": [
    "**Adults category has the highest number of diabetes**"
   ]
  },
  {
   "cell_type": "code",
   "execution_count": 14,
   "id": "53d6dc48",
   "metadata": {
    "execution": {
     "iopub.execute_input": "2022-12-25T14:03:06.424876Z",
     "iopub.status.busy": "2022-12-25T14:03:06.424151Z",
     "iopub.status.idle": "2022-12-25T14:03:06.443526Z",
     "shell.execute_reply": "2022-12-25T14:03:06.442298Z"
    },
    "papermill": {
     "duration": 0.033447,
     "end_time": "2022-12-25T14:03:06.446335",
     "exception": false,
     "start_time": "2022-12-25T14:03:06.412888",
     "status": "completed"
    },
    "tags": []
   },
   "outputs": [
    {
     "data": {
      "text/html": [
       "<div>\n",
       "<style scoped>\n",
       "    .dataframe tbody tr th:only-of-type {\n",
       "        vertical-align: middle;\n",
       "    }\n",
       "\n",
       "    .dataframe tbody tr th {\n",
       "        vertical-align: top;\n",
       "    }\n",
       "\n",
       "    .dataframe thead th {\n",
       "        text-align: right;\n",
       "    }\n",
       "</style>\n",
       "<table border=\"1\" class=\"dataframe\">\n",
       "  <thead>\n",
       "    <tr style=\"text-align: right;\">\n",
       "      <th></th>\n",
       "      <th>Pregnancies</th>\n",
       "      <th>Glucose</th>\n",
       "      <th>BloodPressure</th>\n",
       "      <th>SkinThickness</th>\n",
       "      <th>Insulin</th>\n",
       "      <th>BMI</th>\n",
       "      <th>DiabetesPedigreeFunction</th>\n",
       "      <th>Age</th>\n",
       "      <th>Outcome</th>\n",
       "    </tr>\n",
       "  </thead>\n",
       "  <tbody>\n",
       "    <tr>\n",
       "      <th>Pregnancies</th>\n",
       "      <td>1.000000</td>\n",
       "      <td>0.129459</td>\n",
       "      <td>0.141282</td>\n",
       "      <td>-0.081672</td>\n",
       "      <td>-0.073535</td>\n",
       "      <td>0.017683</td>\n",
       "      <td>-0.033523</td>\n",
       "      <td>0.544341</td>\n",
       "      <td>0.221898</td>\n",
       "    </tr>\n",
       "    <tr>\n",
       "      <th>Glucose</th>\n",
       "      <td>0.129459</td>\n",
       "      <td>1.000000</td>\n",
       "      <td>0.152590</td>\n",
       "      <td>0.057328</td>\n",
       "      <td>0.331357</td>\n",
       "      <td>0.221071</td>\n",
       "      <td>0.137337</td>\n",
       "      <td>0.263514</td>\n",
       "      <td>0.466581</td>\n",
       "    </tr>\n",
       "    <tr>\n",
       "      <th>BloodPressure</th>\n",
       "      <td>0.141282</td>\n",
       "      <td>0.152590</td>\n",
       "      <td>1.000000</td>\n",
       "      <td>0.207371</td>\n",
       "      <td>0.088933</td>\n",
       "      <td>0.281805</td>\n",
       "      <td>0.041265</td>\n",
       "      <td>0.239528</td>\n",
       "      <td>0.065068</td>\n",
       "    </tr>\n",
       "    <tr>\n",
       "      <th>SkinThickness</th>\n",
       "      <td>-0.081672</td>\n",
       "      <td>0.057328</td>\n",
       "      <td>0.207371</td>\n",
       "      <td>1.000000</td>\n",
       "      <td>0.436783</td>\n",
       "      <td>0.392573</td>\n",
       "      <td>0.183928</td>\n",
       "      <td>-0.113970</td>\n",
       "      <td>0.074752</td>\n",
       "    </tr>\n",
       "    <tr>\n",
       "      <th>Insulin</th>\n",
       "      <td>-0.073535</td>\n",
       "      <td>0.331357</td>\n",
       "      <td>0.088933</td>\n",
       "      <td>0.436783</td>\n",
       "      <td>1.000000</td>\n",
       "      <td>0.197859</td>\n",
       "      <td>0.185071</td>\n",
       "      <td>-0.042163</td>\n",
       "      <td>0.130548</td>\n",
       "    </tr>\n",
       "    <tr>\n",
       "      <th>BMI</th>\n",
       "      <td>0.017683</td>\n",
       "      <td>0.221071</td>\n",
       "      <td>0.281805</td>\n",
       "      <td>0.392573</td>\n",
       "      <td>0.197859</td>\n",
       "      <td>1.000000</td>\n",
       "      <td>0.140647</td>\n",
       "      <td>0.036242</td>\n",
       "      <td>0.292695</td>\n",
       "    </tr>\n",
       "    <tr>\n",
       "      <th>DiabetesPedigreeFunction</th>\n",
       "      <td>-0.033523</td>\n",
       "      <td>0.137337</td>\n",
       "      <td>0.041265</td>\n",
       "      <td>0.183928</td>\n",
       "      <td>0.185071</td>\n",
       "      <td>0.140647</td>\n",
       "      <td>1.000000</td>\n",
       "      <td>0.033561</td>\n",
       "      <td>0.173844</td>\n",
       "    </tr>\n",
       "    <tr>\n",
       "      <th>Age</th>\n",
       "      <td>0.544341</td>\n",
       "      <td>0.263514</td>\n",
       "      <td>0.239528</td>\n",
       "      <td>-0.113970</td>\n",
       "      <td>-0.042163</td>\n",
       "      <td>0.036242</td>\n",
       "      <td>0.033561</td>\n",
       "      <td>1.000000</td>\n",
       "      <td>0.238356</td>\n",
       "    </tr>\n",
       "    <tr>\n",
       "      <th>Outcome</th>\n",
       "      <td>0.221898</td>\n",
       "      <td>0.466581</td>\n",
       "      <td>0.065068</td>\n",
       "      <td>0.074752</td>\n",
       "      <td>0.130548</td>\n",
       "      <td>0.292695</td>\n",
       "      <td>0.173844</td>\n",
       "      <td>0.238356</td>\n",
       "      <td>1.000000</td>\n",
       "    </tr>\n",
       "  </tbody>\n",
       "</table>\n",
       "</div>"
      ],
      "text/plain": [
       "                          Pregnancies   Glucose  BloodPressure  SkinThickness  \\\n",
       "Pregnancies                  1.000000  0.129459       0.141282      -0.081672   \n",
       "Glucose                      0.129459  1.000000       0.152590       0.057328   \n",
       "BloodPressure                0.141282  0.152590       1.000000       0.207371   \n",
       "SkinThickness               -0.081672  0.057328       0.207371       1.000000   \n",
       "Insulin                     -0.073535  0.331357       0.088933       0.436783   \n",
       "BMI                          0.017683  0.221071       0.281805       0.392573   \n",
       "DiabetesPedigreeFunction    -0.033523  0.137337       0.041265       0.183928   \n",
       "Age                          0.544341  0.263514       0.239528      -0.113970   \n",
       "Outcome                      0.221898  0.466581       0.065068       0.074752   \n",
       "\n",
       "                           Insulin       BMI  DiabetesPedigreeFunction  \\\n",
       "Pregnancies              -0.073535  0.017683                 -0.033523   \n",
       "Glucose                   0.331357  0.221071                  0.137337   \n",
       "BloodPressure             0.088933  0.281805                  0.041265   \n",
       "SkinThickness             0.436783  0.392573                  0.183928   \n",
       "Insulin                   1.000000  0.197859                  0.185071   \n",
       "BMI                       0.197859  1.000000                  0.140647   \n",
       "DiabetesPedigreeFunction  0.185071  0.140647                  1.000000   \n",
       "Age                      -0.042163  0.036242                  0.033561   \n",
       "Outcome                   0.130548  0.292695                  0.173844   \n",
       "\n",
       "                               Age   Outcome  \n",
       "Pregnancies               0.544341  0.221898  \n",
       "Glucose                   0.263514  0.466581  \n",
       "BloodPressure             0.239528  0.065068  \n",
       "SkinThickness            -0.113970  0.074752  \n",
       "Insulin                  -0.042163  0.130548  \n",
       "BMI                       0.036242  0.292695  \n",
       "DiabetesPedigreeFunction  0.033561  0.173844  \n",
       "Age                       1.000000  0.238356  \n",
       "Outcome                   0.238356  1.000000  "
      ]
     },
     "execution_count": 14,
     "metadata": {},
     "output_type": "execute_result"
    }
   ],
   "source": [
    "df.corr()"
   ]
  },
  {
   "cell_type": "code",
   "execution_count": 15,
   "id": "660192af",
   "metadata": {
    "execution": {
     "iopub.execute_input": "2022-12-25T14:03:06.468818Z",
     "iopub.status.busy": "2022-12-25T14:03:06.468153Z",
     "iopub.status.idle": "2022-12-25T14:03:06.854280Z",
     "shell.execute_reply": "2022-12-25T14:03:06.853039Z"
    },
    "papermill": {
     "duration": 0.400091,
     "end_time": "2022-12-25T14:03:06.856734",
     "exception": false,
     "start_time": "2022-12-25T14:03:06.456643",
     "status": "completed"
    },
    "tags": []
   },
   "outputs": [
    {
     "data": {
      "text/plain": [
       "<AxesSubplot:>"
      ]
     },
     "execution_count": 15,
     "metadata": {},
     "output_type": "execute_result"
    },
    {
     "data": {
      "image/png": "[encoded data removed]",
      "text/plain": [
       "<Figure size 432x288 with 2 Axes>"
      ]
     },
     "metadata": {
      "needs_background": "light"
     },
     "output_type": "display_data"
    }
   ],
   "source": [
    "sns.heatmap(df.corr())"
   ]
  },
  {
   "cell_type": "markdown",
   "id": "2abd171d",
   "metadata": {
    "papermill": {
     "duration": 0.010977,
     "end_time": "2022-12-25T14:03:06.878490",
     "exception": false,
     "start_time": "2022-12-25T14:03:06.867513",
     "status": "completed"
    },
    "tags": []
   },
   "source": [
    "**From the chart above, we can see that all the features has an impact on the Outcome.**"
   ]
  },
  {
   "cell_type": "code",
   "execution_count": 16,
   "id": "b5f30cec",
   "metadata": {
    "execution": {
     "iopub.execute_input": "2022-12-25T14:03:06.902884Z",
     "iopub.status.busy": "2022-12-25T14:03:06.902203Z",
     "iopub.status.idle": "2022-12-25T14:03:07.322662Z",
     "shell.execute_reply": "2022-12-25T14:03:07.321450Z"
    },
    "papermill": {
     "duration": 0.435644,
     "end_time": "2022-12-25T14:03:07.325355",
     "exception": false,
     "start_time": "2022-12-25T14:03:06.889711",
     "status": "completed"
    },
    "tags": []
   },
   "outputs": [],
   "source": [
    "from sklearn.linear_model import LogisticRegression\n",
    "from sklearn.metrics import accuracy_score\n",
    "from sklearn.model_selection import train_test_split\n",
    "from sklearn.metrics import classification_report\n",
    "from sklearn.ensemble import RandomForestClassifier\n",
    "from sklearn.tree import DecisionTreeClassifier"
   ]
  },
  {
   "cell_type": "code",
   "execution_count": 17,
   "id": "73e96f2a",
   "metadata": {
    "execution": {
     "iopub.execute_input": "2022-12-25T14:03:07.349413Z",
     "iopub.status.busy": "2022-12-25T14:03:07.348940Z",
     "iopub.status.idle": "2022-12-25T14:03:07.366330Z",
     "shell.execute_reply": "2022-12-25T14:03:07.364980Z"
    },
    "papermill": {
     "duration": 0.032723,
     "end_time": "2022-12-25T14:03:07.369324",
     "exception": false,
     "start_time": "2022-12-25T14:03:07.336601",
     "status": "completed"
    },
    "tags": []
   },
   "outputs": [
    {
     "name": "stdout",
     "output_type": "stream",
     "text": [
      "<class 'pandas.core.frame.DataFrame'>\n",
      "RangeIndex: 768 entries, 0 to 767\n",
      "Data columns (total 10 columns):\n",
      " #   Column                    Non-Null Count  Dtype  \n",
      "---  ------                    --------------  -----  \n",
      " 0   Pregnancies               768 non-null    int64  \n",
      " 1   Glucose                   768 non-null    int64  \n",
      " 2   BloodPressure             768 non-null    int64  \n",
      " 3   SkinThickness             768 non-null    int64  \n",
      " 4   Insulin                   768 non-null    int64  \n",
      " 5   BMI                       768 non-null    float64\n",
      " 6   DiabetesPedigreeFunction  768 non-null    float64\n",
      " 7   Age                       768 non-null    int64  \n",
      " 8   Outcome                   768 non-null    int64  \n",
      " 9   Category                  768 non-null    object \n",
      "dtypes: float64(2), int64(7), object(1)\n",
      "memory usage: 60.1+ KB\n"
     ]
    }
   ],
   "source": [
    "df.info()"
   ]
  },
  {
   "cell_type": "markdown",
   "id": "f8dcd346",
   "metadata": {
    "papermill": {
     "duration": 0.010337,
     "end_time": "2022-12-25T14:03:07.390804",
     "exception": false,
     "start_time": "2022-12-25T14:03:07.380467",
     "status": "completed"
    },
    "tags": []
   },
   "source": [
    "**Spliting the dataset:**"
   ]
  },
  {
   "cell_type": "code",
   "execution_count": 18,
   "id": "9cf15b9c",
   "metadata": {
    "execution": {
     "iopub.execute_input": "2022-12-25T14:03:07.414167Z",
     "iopub.status.busy": "2022-12-25T14:03:07.413742Z",
     "iopub.status.idle": "2022-12-25T14:03:07.420987Z",
     "shell.execute_reply": "2022-12-25T14:03:07.419823Z"
    },
    "papermill": {
     "duration": 0.021589,
     "end_time": "2022-12-25T14:03:07.423303",
     "exception": false,
     "start_time": "2022-12-25T14:03:07.401714",
     "status": "completed"
    },
    "tags": []
   },
   "outputs": [],
   "source": [
    "X= df.values[:,0:8]\n",
    "Y=  df.values[:,8]"
   ]
  },
  {
   "cell_type": "code",
   "execution_count": 19,
   "id": "2ae3b866",
   "metadata": {
    "execution": {
     "iopub.execute_input": "2022-12-25T14:03:07.447260Z",
     "iopub.status.busy": "2022-12-25T14:03:07.446146Z",
     "iopub.status.idle": "2022-12-25T14:03:07.451391Z",
     "shell.execute_reply": "2022-12-25T14:03:07.450534Z"
    },
    "papermill": {
     "duration": 0.019293,
     "end_time": "2022-12-25T14:03:07.453480",
     "exception": false,
     "start_time": "2022-12-25T14:03:07.434187",
     "status": "completed"
    },
    "tags": []
   },
   "outputs": [],
   "source": [
    "Y=Y.astype('int')\n",
    "X=X.astype('int')"
   ]
  },
  {
   "cell_type": "code",
   "execution_count": 20,
   "id": "f90e1109",
   "metadata": {
    "execution": {
     "iopub.execute_input": "2022-12-25T14:03:07.477860Z",
     "iopub.status.busy": "2022-12-25T14:03:07.476515Z",
     "iopub.status.idle": "2022-12-25T14:03:07.483325Z",
     "shell.execute_reply": "2022-12-25T14:03:07.482052Z"
    },
    "papermill": {
     "duration": 0.021418,
     "end_time": "2022-12-25T14:03:07.485861",
     "exception": false,
     "start_time": "2022-12-25T14:03:07.464443",
     "status": "completed"
    },
    "tags": []
   },
   "outputs": [],
   "source": [
    "X_train, X_test, y_train, y_test = train_test_split(X, Y, test_size = 0.1, random_state = 100)"
   ]
  },
  {
   "cell_type": "code",
   "execution_count": 21,
   "id": "3ec22e95",
   "metadata": {
    "execution": {
     "iopub.execute_input": "2022-12-25T14:03:07.510088Z",
     "iopub.status.busy": "2022-12-25T14:03:07.508826Z",
     "iopub.status.idle": "2022-12-25T14:03:07.513861Z",
     "shell.execute_reply": "2022-12-25T14:03:07.512981Z"
    },
    "papermill": {
     "duration": 0.019223,
     "end_time": "2022-12-25T14:03:07.516062",
     "exception": false,
     "start_time": "2022-12-25T14:03:07.496839",
     "status": "completed"
    },
    "tags": []
   },
   "outputs": [],
   "source": [
    "logreg = LogisticRegression(max_iter=200)"
   ]
  },
  {
   "cell_type": "code",
   "execution_count": 22,
   "id": "5190cdb0",
   "metadata": {
    "execution": {
     "iopub.execute_input": "2022-12-25T14:03:07.539562Z",
     "iopub.status.busy": "2022-12-25T14:03:07.538861Z",
     "iopub.status.idle": "2022-12-25T14:03:07.583099Z",
     "shell.execute_reply": "2022-12-25T14:03:07.581867Z"
    },
    "papermill": {
     "duration": 0.058616,
     "end_time": "2022-12-25T14:03:07.585546",
     "exception": false,
     "start_time": "2022-12-25T14:03:07.526930",
     "status": "completed"
    },
    "tags": []
   },
   "outputs": [
    {
     "data": {
      "text/plain": [
       "LogisticRegression(max_iter=200)"
      ]
     },
     "execution_count": 22,
     "metadata": {},
     "output_type": "execute_result"
    }
   ],
   "source": [
    "logreg.fit(X_train, y_train)"
   ]
  },
  {
   "cell_type": "code",
   "execution_count": 23,
   "id": "f37b3b99",
   "metadata": {
    "execution": {
     "iopub.execute_input": "2022-12-25T14:03:07.609690Z",
     "iopub.status.busy": "2022-12-25T14:03:07.608569Z",
     "iopub.status.idle": "2022-12-25T14:03:07.613895Z",
     "shell.execute_reply": "2022-12-25T14:03:07.613073Z"
    },
    "papermill": {
     "duration": 0.019569,
     "end_time": "2022-12-25T14:03:07.616081",
     "exception": false,
     "start_time": "2022-12-25T14:03:07.596512",
     "status": "completed"
    },
    "tags": []
   },
   "outputs": [],
   "source": [
    "y_pred = logreg.predict(X_test)\n"
   ]
  },
  {
   "cell_type": "code",
   "execution_count": 24,
   "id": "129ed6c8",
   "metadata": {
    "execution": {
     "iopub.execute_input": "2022-12-25T14:03:07.640114Z",
     "iopub.status.busy": "2022-12-25T14:03:07.639373Z",
     "iopub.status.idle": "2022-12-25T14:03:07.643696Z",
     "shell.execute_reply": "2022-12-25T14:03:07.642895Z"
    },
    "papermill": {
     "duration": 0.018402,
     "end_time": "2022-12-25T14:03:07.645586",
     "exception": false,
     "start_time": "2022-12-25T14:03:07.627184",
     "status": "completed"
    },
    "tags": []
   },
   "outputs": [],
   "source": [
    "clf2= RandomForestClassifier(n_estimators = 100)"
   ]
  },
  {
   "cell_type": "code",
   "execution_count": 25,
   "id": "e673ccef",
   "metadata": {
    "execution": {
     "iopub.execute_input": "2022-12-25T14:03:07.669299Z",
     "iopub.status.busy": "2022-12-25T14:03:07.668851Z",
     "iopub.status.idle": "2022-12-25T14:03:07.876641Z",
     "shell.execute_reply": "2022-12-25T14:03:07.875480Z"
    },
    "papermill": {
     "duration": 0.223029,
     "end_time": "2022-12-25T14:03:07.879527",
     "exception": false,
     "start_time": "2022-12-25T14:03:07.656498",
     "status": "completed"
    },
    "tags": []
   },
   "outputs": [
    {
     "data": {
      "text/plain": [
       "RandomForestClassifier()"
      ]
     },
     "execution_count": 25,
     "metadata": {},
     "output_type": "execute_result"
    }
   ],
   "source": [
    "clf2.fit(X_train, y_train)"
   ]
  },
  {
   "cell_type": "code",
   "execution_count": 26,
   "id": "d529542d",
   "metadata": {
    "execution": {
     "iopub.execute_input": "2022-12-25T14:03:07.903894Z",
     "iopub.status.busy": "2022-12-25T14:03:07.903460Z",
     "iopub.status.idle": "2022-12-25T14:03:07.923889Z",
     "shell.execute_reply": "2022-12-25T14:03:07.922575Z"
    },
    "papermill": {
     "duration": 0.035663,
     "end_time": "2022-12-25T14:03:07.926746",
     "exception": false,
     "start_time": "2022-12-25T14:03:07.891083",
     "status": "completed"
    },
    "tags": []
   },
   "outputs": [],
   "source": [
    "y_pred2 = clf2.predict(X_test)"
   ]
  },
  {
   "cell_type": "code",
   "execution_count": 27,
   "id": "555152b0",
   "metadata": {
    "execution": {
     "iopub.execute_input": "2022-12-25T14:03:07.951341Z",
     "iopub.status.busy": "2022-12-25T14:03:07.950262Z",
     "iopub.status.idle": "2022-12-25T14:03:07.956115Z",
     "shell.execute_reply": "2022-12-25T14:03:07.955112Z"
    },
    "papermill": {
     "duration": 0.020779,
     "end_time": "2022-12-25T14:03:07.958647",
     "exception": false,
     "start_time": "2022-12-25T14:03:07.937868",
     "status": "completed"
    },
    "tags": []
   },
   "outputs": [],
   "source": [
    " clf1 = DecisionTreeClassifier(criterion = \"gini\",\n",
    "            random_state = 100,max_depth=7, min_samples_leaf=5)"
   ]
  },
  {
   "cell_type": "code",
   "execution_count": 28,
   "id": "893c2389",
   "metadata": {
    "execution": {
     "iopub.execute_input": "2022-12-25T14:03:07.982385Z",
     "iopub.status.busy": "2022-12-25T14:03:07.981907Z",
     "iopub.status.idle": "2022-12-25T14:03:07.992326Z",
     "shell.execute_reply": "2022-12-25T14:03:07.991149Z"
    },
    "papermill": {
     "duration": 0.025306,
     "end_time": "2022-12-25T14:03:07.994944",
     "exception": false,
     "start_time": "2022-12-25T14:03:07.969638",
     "status": "completed"
    },
    "tags": []
   },
   "outputs": [
    {
     "data": {
      "text/plain": [
       "DecisionTreeClassifier(max_depth=7, min_samples_leaf=5, random_state=100)"
      ]
     },
     "execution_count": 28,
     "metadata": {},
     "output_type": "execute_result"
    }
   ],
   "source": [
    "clf1.fit(X_train,y_train)"
   ]
  },
  {
   "cell_type": "code",
   "execution_count": 29,
   "id": "4e728e5f",
   "metadata": {
    "execution": {
     "iopub.execute_input": "2022-12-25T14:03:08.019031Z",
     "iopub.status.busy": "2022-12-25T14:03:08.018601Z",
     "iopub.status.idle": "2022-12-25T14:03:08.024506Z",
     "shell.execute_reply": "2022-12-25T14:03:08.023173Z"
    },
    "papermill": {
     "duration": 0.020555,
     "end_time": "2022-12-25T14:03:08.026749",
     "exception": false,
     "start_time": "2022-12-25T14:03:08.006194",
     "status": "completed"
    },
    "tags": []
   },
   "outputs": [],
   "source": [
    "y_pred3 = clf1.predict(X_test)"
   ]
  },
  {
   "cell_type": "markdown",
   "id": "5bee195b",
   "metadata": {
    "papermill": {
     "duration": 0.01045,
     "end_time": "2022-12-25T14:03:08.048263",
     "exception": false,
     "start_time": "2022-12-25T14:03:08.037813",
     "status": "completed"
    },
    "tags": []
   },
   "source": [
    "**Logistic regression report:**"
   ]
  },
  {
   "cell_type": "code",
   "execution_count": 30,
   "id": "e495fd7d",
   "metadata": {
    "execution": {
     "iopub.execute_input": "2022-12-25T14:03:08.072268Z",
     "iopub.status.busy": "2022-12-25T14:03:08.071536Z",
     "iopub.status.idle": "2022-12-25T14:03:08.082337Z",
     "shell.execute_reply": "2022-12-25T14:03:08.080391Z"
    },
    "papermill": {
     "duration": 0.0263,
     "end_time": "2022-12-25T14:03:08.085397",
     "exception": false,
     "start_time": "2022-12-25T14:03:08.059097",
     "status": "completed"
    },
    "tags": []
   },
   "outputs": [
    {
     "name": "stdout",
     "output_type": "stream",
     "text": [
      "              precision    recall  f1-score   support\n",
      "\n",
      "           0       0.79      0.87      0.83        47\n",
      "           1       0.76      0.63      0.69        30\n",
      "\n",
      "    accuracy                           0.78        77\n",
      "   macro avg       0.77      0.75      0.76        77\n",
      "weighted avg       0.78      0.78      0.77        77\n",
      "\n"
     ]
    }
   ],
   "source": [
    "print(classification_report(y_test, y_pred))"
   ]
  },
  {
   "cell_type": "markdown",
   "id": "73a37ee7",
   "metadata": {
    "papermill": {
     "duration": 0.010583,
     "end_time": "2022-12-25T14:03:08.107465",
     "exception": false,
     "start_time": "2022-12-25T14:03:08.096882",
     "status": "completed"
    },
    "tags": []
   },
   "source": [
    "**Random Forest report:**"
   ]
  },
  {
   "cell_type": "code",
   "execution_count": 31,
   "id": "b0712b84",
   "metadata": {
    "execution": {
     "iopub.execute_input": "2022-12-25T14:03:08.131669Z",
     "iopub.status.busy": "2022-12-25T14:03:08.130617Z",
     "iopub.status.idle": "2022-12-25T14:03:08.140494Z",
     "shell.execute_reply": "2022-12-25T14:03:08.138985Z"
    },
    "papermill": {
     "duration": 0.024426,
     "end_time": "2022-12-25T14:03:08.142837",
     "exception": false,
     "start_time": "2022-12-25T14:03:08.118411",
     "status": "completed"
    },
    "tags": []
   },
   "outputs": [
    {
     "name": "stdout",
     "output_type": "stream",
     "text": [
      "              precision    recall  f1-score   support\n",
      "\n",
      "           0       0.74      0.85      0.79        47\n",
      "           1       0.70      0.53      0.60        30\n",
      "\n",
      "    accuracy                           0.73        77\n",
      "   macro avg       0.72      0.69      0.70        77\n",
      "weighted avg       0.72      0.73      0.72        77\n",
      "\n"
     ]
    }
   ],
   "source": [
    "print(classification_report(y_test, y_pred2))"
   ]
  },
  {
   "cell_type": "markdown",
   "id": "e1979fa8",
   "metadata": {
    "papermill": {
     "duration": 0.010732,
     "end_time": "2022-12-25T14:03:08.164745",
     "exception": false,
     "start_time": "2022-12-25T14:03:08.154013",
     "status": "completed"
    },
    "tags": []
   },
   "source": [
    "**Decision tree report:**"
   ]
  },
  {
   "cell_type": "code",
   "execution_count": 32,
   "id": "8f68b1b6",
   "metadata": {
    "execution": {
     "iopub.execute_input": "2022-12-25T14:03:08.189604Z",
     "iopub.status.busy": "2022-12-25T14:03:08.188907Z",
     "iopub.status.idle": "2022-12-25T14:03:08.199174Z",
     "shell.execute_reply": "2022-12-25T14:03:08.197560Z"
    },
    "papermill": {
     "duration": 0.025811,
     "end_time": "2022-12-25T14:03:08.201694",
     "exception": false,
     "start_time": "2022-12-25T14:03:08.175883",
     "status": "completed"
    },
    "tags": []
   },
   "outputs": [
    {
     "name": "stdout",
     "output_type": "stream",
     "text": [
      "              precision    recall  f1-score   support\n",
      "\n",
      "           0       0.74      0.83      0.78        47\n",
      "           1       0.67      0.53      0.59        30\n",
      "\n",
      "    accuracy                           0.71        77\n",
      "   macro avg       0.70      0.68      0.69        77\n",
      "weighted avg       0.71      0.71      0.71        77\n",
      "\n"
     ]
    }
   ],
   "source": [
    "print(classification_report(y_test, y_pred3))"
   ]
  },
  {
   "cell_type": "markdown",
   "id": "e898d562",
   "metadata": {
    "papermill": {
     "duration": 0.010747,
     "end_time": "2022-12-25T14:03:08.223465",
     "exception": false,
     "start_time": "2022-12-25T14:03:08.212718",
     "status": "completed"
    },
    "tags": []
   },
   "source": [
    "**We can see that Logistic regression algorithm has the best score, but other algorithms should be tested to improve the result. Thank you!**"
   ]
  }
 ],
 "metadata": {
  "kernelspec": {
   "display_name": "Python 3",
   "language": "python",
   "name": "python3"
  },
  "language_info": {
   "codemirror_mode": {
    "name": "ipython",
    "version": 3
   },
   "file_extension": ".py",
   "mimetype": "text/x-python",
   "name": "python",
   "nbconvert_exporter": "python",
   "pygments_lexer": "ipython3",
   "version": "3.7.12"
  },
  "papermill": {
   "default_parameters": {},
   "duration": 13.371111,
   "end_time": "2022-12-25T14:03:09.056048",
   "environment_variables": {},
   "exception": null,
   "input_path": "__notebook__.ipynb",
   "output_path": "__notebook__.ipynb",
   "parameters": {},
   "start_time": "2022-12-25T14:02:55.684937",
   "version": "2.3.4"
  }
 },
 "nbformat": 4,
 "nbformat_minor": 5
}

{
 "cells": [
  {
   "cell_type": "code",
   "execution_count": 1,
   "id": "26f1f6d7",
   "metadata": {
    "_cell_guid": "b1076dfc-b9ad-4769-8c92-a6c4dae69d19",
    "_uuid": "8f2839f25d086af736a60e9eeb907d3b93b6e0e5",
    "execution": {
     "iopub.execute_input": "2024-02-24T21:50:02.773236Z",
     "iopub.status.busy": "2024-02-24T21:50:02.772805Z",
     "iopub.status.idle": "2024-02-24T21:50:03.851978Z",
     "shell.execute_reply": "2024-02-24T21:50:03.850757Z"
    },
    "papermill": {
     "duration": 1.100334,
     "end_time": "2024-02-24T21:50:03.856197",
     "exception": false,
     "start_time": "2024-02-24T21:50:02.755863",
     "status": "completed"
    },
    "tags": []
   },
   "outputs": [
    {
     "name": "stdout",
     "output_type": "stream",
     "text": [
      "/kaggle/input/ultimate-book-collection-top-100-books-up-to-2023/goodreads_top100_from1980to2023_final.csv\n"
     ]
    }
   ],
   "source": [
    "# This Python 3 environment comes with many helpful analytics libraries installed\n",
    "# It is defined by the kaggle/python Docker image: https://github.com/kaggle/docker-python\n",
    "# For example, here's several helpful packages to load\n",
    "\n",
    "import numpy as np # linear algebra\n",
    "import pandas as pd # data processing, CSV file I/O (e.g. pd.read_csv)\n",
    "\n",
    "# Input data files are available in the read-only \"../input/\" directory\n",
    "# For example, running this (by clicking run or pressing Shift+Enter) will list all files under the input directory\n",
    "\n",
    "import os\n",
    "for dirname, _, filenames in os.walk('/kaggle/input'):\n",
    "    for filename in filenames:\n",
    "        print(os.path.join(dirname, filename))\n",
    "\n",
    "# You can write up to 20GB to the current directory (/kaggle/working/) that gets preserved as output when you create a version using \"Save & Run All\" \n",
    "# You can also write temporary files to /kaggle/temp/, but they won't be saved outside of the current session"
   ]
  },
  {
   "cell_type": "markdown",
   "id": "5b85e338",
   "metadata": {
    "papermill": {
     "duration": 0.014448,
     "end_time": "2024-02-24T21:50:03.885537",
     "exception": false,
     "start_time": "2024-02-24T21:50:03.871089",
     "status": "completed"
    },
    "tags": []
   },
   "source": [
    "# Introduction:"
   ]
  },
  {
   "cell_type": "markdown",
   "id": "489e54f9",
   "metadata": {
    "papermill": {
     "duration": 0.014275,
     "end_time": "2024-02-24T21:50:03.914977",
     "exception": false,
     "start_time": "2024-02-24T21:50:03.900702",
     "status": "completed"
    },
    "tags": []
   },
   "source": [
    "Analyzing Goodreads books data can provide valuable insights into reading trends, popular genres, author popularity, and user preferences. Goodreads, a social cataloging website, allows users to keep track of the books they have read, want to read, and are currently reading. The Goodreads API or publicly available datasets can be utilized for conducting data analysis on books, authors, and user interactions.  My objective is to make some EDA and create a book recommendation model which can recommend you some books title based on a book that you liked."
   ]
  },
  {
   "cell_type": "code",
   "execution_count": 2,
   "id": "493c28fa",
   "metadata": {
    "execution": {
     "iopub.execute_input": "2024-02-24T21:50:03.948114Z",
     "iopub.status.busy": "2024-02-24T21:50:03.947255Z",
     "iopub.status.idle": "2024-02-24T21:50:05.599630Z",
     "shell.execute_reply": "2024-02-24T21:50:05.598290Z"
    },
    "papermill": {
     "duration": 1.673133,
     "end_time": "2024-02-24T21:50:05.602697",
     "exception": false,
     "start_time": "2024-02-24T21:50:03.929564",
     "status": "completed"
    },
    "tags": []
   },
   "outputs": [],
   "source": [
    "import seaborn as sns\n",
    "import matplotlib.pyplot as plt"
   ]
  },
  {
   "cell_type": "code",
   "execution_count": 3,
   "id": "eb48e6d6",
   "metadata": {
    "execution": {
     "iopub.execute_input": "2024-02-24T21:50:05.634363Z",
     "iopub.status.busy": "2024-02-24T21:50:05.633878Z",
     "iopub.status.idle": "2024-02-24T21:50:05.639243Z",
     "shell.execute_reply": "2024-02-24T21:50:05.638184Z"
    },
    "papermill": {
     "duration": 0.023872,
     "end_time": "2024-02-24T21:50:05.641418",
     "exception": false,
     "start_time": "2024-02-24T21:50:05.617546",
     "status": "completed"
    },
    "tags": []
   },
   "outputs": [],
   "source": [
    "import warnings\n",
    "\n",
    "# Ignore all warnings\n",
    "warnings.filterwarnings(\"ignore\")"
   ]
  },
  {
   "cell_type": "code",
   "execution_count": 4,
   "id": "99048059",
   "metadata": {
    "execution": {
     "iopub.execute_input": "2024-02-24T21:50:05.672371Z",
     "iopub.status.busy": "2024-02-24T21:50:05.671691Z",
     "iopub.status.idle": "2024-02-24T21:50:05.851646Z",
     "shell.execute_reply": "2024-02-24T21:50:05.850229Z"
    },
    "papermill": {
     "duration": 0.198692,
     "end_time": "2024-02-24T21:50:05.854522",
     "exception": false,
     "start_time": "2024-02-24T21:50:05.655830",
     "status": "completed"
    },
    "tags": []
   },
   "outputs": [],
   "source": [
    "df=pd.read_csv('/kaggle/input/ultimate-book-collection-top-100-books-up-to-2023/goodreads_top100_from1980to2023_final.csv')"
   ]
  },
  {
   "cell_type": "markdown",
   "id": "4e0b9083",
   "metadata": {
    "papermill": {
     "duration": 0.014109,
     "end_time": "2024-02-24T21:50:05.883121",
     "exception": false,
     "start_time": "2024-02-24T21:50:05.869012",
     "status": "completed"
    },
    "tags": []
   },
   "source": [
    "# Dataset Overview:"
   ]
  },
  {
   "cell_type": "markdown",
   "id": "7c525914",
   "metadata": {
    "papermill": {
     "duration": 0.013982,
     "end_time": "2024-02-24T21:50:05.911471",
     "exception": false,
     "start_time": "2024-02-24T21:50:05.897489",
     "status": "completed"
    },
    "tags": []
   },
   "source": [
    "The dataset include fields such as book title, author, average rating, number of ratings, publication year, and user reviews. I will use two dataframe: one for the EDA and the second one for the recommendation system."
   ]
  },
  {
   "cell_type": "code",
   "execution_count": 5,
   "id": "e95c8c65",
   "metadata": {
    "execution": {
     "iopub.execute_input": "2024-02-24T21:50:05.942172Z",
     "iopub.status.busy": "2024-02-24T21:50:05.941619Z",
     "iopub.status.idle": "2024-02-24T21:50:06.049033Z",
     "shell.execute_reply": "2024-02-24T21:50:06.047785Z"
    },
    "papermill": {
     "duration": 0.126265,
     "end_time": "2024-02-24T21:50:06.052067",
     "exception": false,
     "start_time": "2024-02-24T21:50:05.925802",
     "status": "completed"
    },
    "tags": []
   },
   "outputs": [],
   "source": [
    "df2=pd.read_csv('/kaggle/input/ultimate-book-collection-top-100-books-up-to-2023/goodreads_top100_from1980to2023_final.csv')"
   ]
  },
  {
   "cell_type": "code",
   "execution_count": 6,
   "id": "bd58eed7",
   "metadata": {
    "execution": {
     "iopub.execute_input": "2024-02-24T21:50:06.082778Z",
     "iopub.status.busy": "2024-02-24T21:50:06.082356Z",
     "iopub.status.idle": "2024-02-24T21:50:06.115655Z",
     "shell.execute_reply": "2024-02-24T21:50:06.114502Z"
    },
    "papermill": {
     "duration": 0.051703,
     "end_time": "2024-02-24T21:50:06.118110",
     "exception": false,
     "start_time": "2024-02-24T21:50:06.066407",
     "status": "completed"
    },
    "tags": []
   },
   "outputs": [
    {
     "data": {
      "text/html": [
       "<div>\n",
       "<style scoped>\n",
       "    .dataframe tbody tr th:only-of-type {\n",
       "        vertical-align: middle;\n",
       "    }\n",
       "\n",
       "    .dataframe tbody tr th {\n",
       "        vertical-align: top;\n",
       "    }\n",
       "\n",
       "    .dataframe thead th {\n",
       "        text-align: right;\n",
       "    }\n",
       "</style>\n",
       "<table border=\"1\" class=\"dataframe\">\n",
       "  <thead>\n",
       "    <tr style=\"text-align: right;\">\n",
       "      <th></th>\n",
       "      <th>Unnamed: 0</th>\n",
       "      <th>isbn</th>\n",
       "      <th>title</th>\n",
       "      <th>series_title</th>\n",
       "      <th>series_release_number</th>\n",
       "      <th>authors</th>\n",
       "      <th>publisher</th>\n",
       "      <th>language</th>\n",
       "      <th>description</th>\n",
       "      <th>num_pages</th>\n",
       "      <th>format</th>\n",
       "      <th>genres</th>\n",
       "      <th>publication_date</th>\n",
       "      <th>rating_score</th>\n",
       "      <th>num_ratings</th>\n",
       "      <th>num_reviews</th>\n",
       "      <th>current_readers</th>\n",
       "      <th>want_to_read</th>\n",
       "      <th>price</th>\n",
       "      <th>url</th>\n",
       "    </tr>\n",
       "  </thead>\n",
       "  <tbody>\n",
       "    <tr>\n",
       "      <th>0</th>\n",
       "      <td>0</td>\n",
       "      <td>9780689830594</td>\n",
       "      <td>Summer Story</td>\n",
       "      <td>Brambly Hedge</td>\n",
       "      <td>2</td>\n",
       "      <td>Jill Barklem</td>\n",
       "      <td>Atheneum</td>\n",
       "      <td>English</td>\n",
       "      <td>It was such a hot summer. The sky was deep blu...</td>\n",
       "      <td>32</td>\n",
       "      <td>Hardcover</td>\n",
       "      <td>['Picture Books', 'Childrens', 'Fiction', 'Ani...</td>\n",
       "      <td>January 1, 1980</td>\n",
       "      <td>4.45</td>\n",
       "      <td>1017.0</td>\n",
       "      <td>74.0</td>\n",
       "      <td>7.0</td>\n",
       "      <td>512.0</td>\n",
       "      <td>3.49</td>\n",
       "      <td>https://www.goodreads.com/book/show/421572.Sum...</td>\n",
       "    </tr>\n",
       "    <tr>\n",
       "      <th>1</th>\n",
       "      <td>1</td>\n",
       "      <td>9780375704970</td>\n",
       "      <td>The Lake of Darkness</td>\n",
       "      <td>NaN</td>\n",
       "      <td>NaN</td>\n",
       "      <td>Ruth Rendell</td>\n",
       "      <td>Vintage Crime/Black Lizard</td>\n",
       "      <td>English</td>\n",
       "      <td>Martin Urban is a quiet bachelor with a comfor...</td>\n",
       "      <td>210</td>\n",
       "      <td>Paperback</td>\n",
       "      <td>['Mystery', 'Fiction', 'Crime', 'Thriller', 'B...</td>\n",
       "      <td>January 1, 1980</td>\n",
       "      <td>3.76</td>\n",
       "      <td>1388.0</td>\n",
       "      <td>114.0</td>\n",
       "      <td>77.0</td>\n",
       "      <td>623.0</td>\n",
       "      <td>4.99</td>\n",
       "      <td>https://www.goodreads.com/book/show/83394.The_...</td>\n",
       "    </tr>\n",
       "    <tr>\n",
       "      <th>2</th>\n",
       "      <td>2</td>\n",
       "      <td>9780345446671</td>\n",
       "      <td>Beyond the Blue Event Horizon</td>\n",
       "      <td>Heechee Saga</td>\n",
       "      <td>2</td>\n",
       "      <td>Frederik Pohl</td>\n",
       "      <td>Ballantine Books</td>\n",
       "      <td>English</td>\n",
       "      <td>In Book Two of the Heechee Saga, Robinette Bro...</td>\n",
       "      <td>336</td>\n",
       "      <td>Paperback</td>\n",
       "      <td>['Science Fiction', 'Fiction', 'Space Opera', ...</td>\n",
       "      <td>January 1, 1980</td>\n",
       "      <td>3.95</td>\n",
       "      <td>13307.0</td>\n",
       "      <td>339.0</td>\n",
       "      <td>181.0</td>\n",
       "      <td>3961.0</td>\n",
       "      <td>11.99</td>\n",
       "      <td>https://www.goodreads.com/book/show/373399.Bey...</td>\n",
       "    </tr>\n",
       "    <tr>\n",
       "      <th>3</th>\n",
       "      <td>3</td>\n",
       "      <td>9780446403016</td>\n",
       "      <td>St. Peter's Fair</td>\n",
       "      <td>Chronicles of Brother Cadfael</td>\n",
       "      <td>4</td>\n",
       "      <td>Ellis Peters</td>\n",
       "      <td>Mysterious Press</td>\n",
       "      <td>English</td>\n",
       "      <td>A pause in the civil war offers Shrewsbury's t...</td>\n",
       "      <td>217</td>\n",
       "      <td>Mass Market Paperback</td>\n",
       "      <td>['Mystery', 'Historical Fiction', 'Fiction', '...</td>\n",
       "      <td>May 1, 1981</td>\n",
       "      <td>4.12</td>\n",
       "      <td>10493.0</td>\n",
       "      <td>593.0</td>\n",
       "      <td>1298.0</td>\n",
       "      <td>2502.0</td>\n",
       "      <td>0.00</td>\n",
       "      <td>https://www.goodreads.com/book/show/751755.St_...</td>\n",
       "    </tr>\n",
       "    <tr>\n",
       "      <th>4</th>\n",
       "      <td>4</td>\n",
       "      <td>9780425198773</td>\n",
       "      <td>Twice Shy</td>\n",
       "      <td>NaN</td>\n",
       "      <td>NaN</td>\n",
       "      <td>Dick Francis</td>\n",
       "      <td>G.P. Putnam's Sons</td>\n",
       "      <td>English</td>\n",
       "      <td>A computerized horse-betting system falls into...</td>\n",
       "      <td>304</td>\n",
       "      <td>Mass Market Paperback</td>\n",
       "      <td>['Mystery', 'Fiction', 'Thriller', 'Crime', 'S...</td>\n",
       "      <td>January 1, 1981</td>\n",
       "      <td>3.92</td>\n",
       "      <td>4188.0</td>\n",
       "      <td>174.0</td>\n",
       "      <td>162.0</td>\n",
       "      <td>642.0</td>\n",
       "      <td>8.99</td>\n",
       "      <td>https://www.goodreads.com/book/show/103250.Twi...</td>\n",
       "    </tr>\n",
       "  </tbody>\n",
       "</table>\n",
       "</div>"
      ],
      "text/plain": [
       "   Unnamed: 0           isbn                           title  \\\n",
       "0           0  9780689830594                   Summer Story    \n",
       "1           1  9780375704970            The Lake of Darkness   \n",
       "2           2  9780345446671  Beyond the Blue Event Horizon    \n",
       "3           3  9780446403016               St. Peter's Fair    \n",
       "4           4  9780425198773                       Twice Shy   \n",
       "\n",
       "                    series_title series_release_number        authors  \\\n",
       "0                  Brambly Hedge                     2   Jill Barklem   \n",
       "1                            NaN                   NaN   Ruth Rendell   \n",
       "2                   Heechee Saga                     2  Frederik Pohl   \n",
       "3  Chronicles of Brother Cadfael                     4   Ellis Peters   \n",
       "4                            NaN                   NaN   Dick Francis   \n",
       "\n",
       "                    publisher language  \\\n",
       "0                    Atheneum  English   \n",
       "1  Vintage Crime/Black Lizard  English   \n",
       "2            Ballantine Books  English   \n",
       "3            Mysterious Press  English   \n",
       "4          G.P. Putnam's Sons  English   \n",
       "\n",
       "                                         description num_pages  \\\n",
       "0  It was such a hot summer. The sky was deep blu...        32   \n",
       "1  Martin Urban is a quiet bachelor with a comfor...       210   \n",
       "2  In Book Two of the Heechee Saga, Robinette Bro...       336   \n",
       "3  A pause in the civil war offers Shrewsbury's t...       217   \n",
       "4  A computerized horse-betting system falls into...       304   \n",
       "\n",
       "                  format                                             genres  \\\n",
       "0              Hardcover  ['Picture Books', 'Childrens', 'Fiction', 'Ani...   \n",
       "1              Paperback  ['Mystery', 'Fiction', 'Crime', 'Thriller', 'B...   \n",
       "2              Paperback  ['Science Fiction', 'Fiction', 'Space Opera', ...   \n",
       "3  Mass Market Paperback  ['Mystery', 'Historical Fiction', 'Fiction', '...   \n",
       "4  Mass Market Paperback  ['Mystery', 'Fiction', 'Thriller', 'Crime', 'S...   \n",
       "\n",
       "  publication_date  rating_score  num_ratings  num_reviews  current_readers  \\\n",
       "0  January 1, 1980          4.45       1017.0         74.0              7.0   \n",
       "1  January 1, 1980          3.76       1388.0        114.0             77.0   \n",
       "2  January 1, 1980          3.95      13307.0        339.0            181.0   \n",
       "3      May 1, 1981          4.12      10493.0        593.0           1298.0   \n",
       "4  January 1, 1981          3.92       4188.0        174.0            162.0   \n",
       "\n",
       "   want_to_read  price                                                url  \n",
       "0         512.0   3.49  https://www.goodreads.com/book/show/421572.Sum...  \n",
       "1         623.0   4.99  https://www.goodreads.com/book/show/83394.The_...  \n",
       "2        3961.0  11.99  https://www.goodreads.com/book/show/373399.Bey...  \n",
       "3        2502.0   0.00  https://www.goodreads.com/book/show/751755.St_...  \n",
       "4         642.0   8.99  https://www.goodreads.com/book/show/103250.Twi...  "
      ]
     },
     "execution_count": 6,
     "metadata": {},
     "output_type": "execute_result"
    }
   ],
   "source": [
    "df2.head()"
   ]
  },
  {
   "cell_type": "markdown",
   "id": "3ed10223",
   "metadata": {
    "papermill": {
     "duration": 0.014487,
     "end_time": "2024-02-24T21:50:06.147300",
     "exception": false,
     "start_time": "2024-02-24T21:50:06.132813",
     "status": "completed"
    },
    "tags": []
   },
   "source": [
    "# Data Cleaning and Preprocessing:"
   ]
  },
  {
   "cell_type": "markdown",
   "id": "052a752a",
   "metadata": {
    "papermill": {
     "duration": 0.014398,
     "end_time": "2024-02-24T21:50:06.176506",
     "exception": false,
     "start_time": "2024-02-24T21:50:06.162108",
     "status": "completed"
    },
    "tags": []
   },
   "source": [
    "Before analysis, performing data cleaning and preprocessing tasks. Handling missing values, removing duplicates, and converting data types as needed. "
   ]
  },
  {
   "cell_type": "code",
   "execution_count": 7,
   "id": "4b15b24c",
   "metadata": {
    "execution": {
     "iopub.execute_input": "2024-02-24T21:50:06.208784Z",
     "iopub.status.busy": "2024-02-24T21:50:06.207956Z",
     "iopub.status.idle": "2024-02-24T21:50:06.252957Z",
     "shell.execute_reply": "2024-02-24T21:50:06.251820Z"
    },
    "papermill": {
     "duration": 0.064166,
     "end_time": "2024-02-24T21:50:06.255709",
     "exception": false,
     "start_time": "2024-02-24T21:50:06.191543",
     "status": "completed"
    },
    "tags": []
   },
   "outputs": [
    {
     "name": "stdout",
     "output_type": "stream",
     "text": [
      "<class 'pandas.core.frame.DataFrame'>\n",
      "Index: 3789 entries, 0 to 4399\n",
      "Data columns (total 10 columns):\n",
      " #   Column           Non-Null Count  Dtype  \n",
      "---  ------           --------------  -----  \n",
      " 0   title            3789 non-null   object \n",
      " 1   authors          3789 non-null   object \n",
      " 2   publisher        3789 non-null   object \n",
      " 3   language         3789 non-null   object \n",
      " 4   rating_score     3789 non-null   float64\n",
      " 5   num_ratings      3789 non-null   float64\n",
      " 6   num_reviews      3789 non-null   float64\n",
      " 7   current_readers  3789 non-null   float64\n",
      " 8   want_to_read     3789 non-null   float64\n",
      " 9   price            3789 non-null   float64\n",
      "dtypes: float64(6), object(4)\n",
      "memory usage: 325.6+ KB\n"
     ]
    }
   ],
   "source": [
    "#removing duplicates\n",
    "df2['title']=df2['title'].drop_duplicates()\n",
    "#removing useless columns\n",
    "df2=df2[['title','authors','publisher','language','rating_score','num_ratings','num_reviews','current_readers','want_to_read','price']]\n",
    "#removing null rows\n",
    "df2=df2.dropna()\n",
    "df2.info()"
   ]
  },
  {
   "cell_type": "markdown",
   "id": "948ee865",
   "metadata": {
    "papermill": {
     "duration": 0.014933,
     "end_time": "2024-02-24T21:50:06.285895",
     "exception": false,
     "start_time": "2024-02-24T21:50:06.270962",
     "status": "completed"
    },
    "tags": []
   },
   "source": [
    "# Exploratory Data Analysis (EDA):"
   ]
  },
  {
   "cell_type": "markdown",
   "id": "9de9e98e",
   "metadata": {
    "papermill": {
     "duration": 0.015984,
     "end_time": "2024-02-24T21:50:06.316936",
     "exception": false,
     "start_time": "2024-02-24T21:50:06.300952",
     "status": "completed"
    },
    "tags": []
   },
   "source": [
    "Exploring distributions, correlations, and summary statistics. Visualizing results using charts and graphs to identify patterns."
   ]
  },
  {
   "cell_type": "code",
   "execution_count": 8,
   "id": "ed01ddb2",
   "metadata": {
    "execution": {
     "iopub.execute_input": "2024-02-24T21:50:06.349632Z",
     "iopub.status.busy": "2024-02-24T21:50:06.348871Z",
     "iopub.status.idle": "2024-02-24T21:50:06.380885Z",
     "shell.execute_reply": "2024-02-24T21:50:06.379719Z"
    },
    "papermill": {
     "duration": 0.051194,
     "end_time": "2024-02-24T21:50:06.383456",
     "exception": false,
     "start_time": "2024-02-24T21:50:06.332262",
     "status": "completed"
    },
    "tags": []
   },
   "outputs": [
    {
     "data": {
      "text/html": [
       "<div>\n",
       "<style scoped>\n",
       "    .dataframe tbody tr th:only-of-type {\n",
       "        vertical-align: middle;\n",
       "    }\n",
       "\n",
       "    .dataframe tbody tr th {\n",
       "        vertical-align: top;\n",
       "    }\n",
       "\n",
       "    .dataframe thead th {\n",
       "        text-align: right;\n",
       "    }\n",
       "</style>\n",
       "<table border=\"1\" class=\"dataframe\">\n",
       "  <thead>\n",
       "    <tr style=\"text-align: right;\">\n",
       "      <th></th>\n",
       "      <th>rating_score</th>\n",
       "      <th>num_ratings</th>\n",
       "      <th>num_reviews</th>\n",
       "      <th>current_readers</th>\n",
       "      <th>want_to_read</th>\n",
       "      <th>price</th>\n",
       "    </tr>\n",
       "  </thead>\n",
       "  <tbody>\n",
       "    <tr>\n",
       "      <th>count</th>\n",
       "      <td>3789.000000</td>\n",
       "      <td>3.789000e+03</td>\n",
       "      <td>3789.000000</td>\n",
       "      <td>3789.000000</td>\n",
       "      <td>3.789000e+03</td>\n",
       "      <td>3789.000000</td>\n",
       "    </tr>\n",
       "    <tr>\n",
       "      <th>mean</th>\n",
       "      <td>4.014217</td>\n",
       "      <td>1.556831e+05</td>\n",
       "      <td>9396.448139</td>\n",
       "      <td>5645.721298</td>\n",
       "      <td>9.375439e+04</td>\n",
       "      <td>8.994059</td>\n",
       "    </tr>\n",
       "    <tr>\n",
       "      <th>std</th>\n",
       "      <td>0.238460</td>\n",
       "      <td>4.192413e+05</td>\n",
       "      <td>19363.083203</td>\n",
       "      <td>13204.933050</td>\n",
       "      <td>1.779952e+05</td>\n",
       "      <td>4.397353</td>\n",
       "    </tr>\n",
       "    <tr>\n",
       "      <th>min</th>\n",
       "      <td>2.970000</td>\n",
       "      <td>4.100000e+01</td>\n",
       "      <td>6.000000</td>\n",
       "      <td>2.000000</td>\n",
       "      <td>3.000000e+00</td>\n",
       "      <td>0.000000</td>\n",
       "    </tr>\n",
       "    <tr>\n",
       "      <th>25%</th>\n",
       "      <td>3.860000</td>\n",
       "      <td>1.601500e+04</td>\n",
       "      <td>870.000000</td>\n",
       "      <td>478.000000</td>\n",
       "      <td>8.018000e+03</td>\n",
       "      <td>6.990000</td>\n",
       "    </tr>\n",
       "    <tr>\n",
       "      <th>50%</th>\n",
       "      <td>4.020000</td>\n",
       "      <td>4.869600e+04</td>\n",
       "      <td>2788.000000</td>\n",
       "      <td>1388.000000</td>\n",
       "      <td>2.620000e+04</td>\n",
       "      <td>9.990000</td>\n",
       "    </tr>\n",
       "    <tr>\n",
       "      <th>75%</th>\n",
       "      <td>4.170000</td>\n",
       "      <td>1.277410e+05</td>\n",
       "      <td>8912.000000</td>\n",
       "      <td>4550.000000</td>\n",
       "      <td>9.870000e+04</td>\n",
       "      <td>11.990000</td>\n",
       "    </tr>\n",
       "    <tr>\n",
       "      <th>max</th>\n",
       "      <td>4.760000</td>\n",
       "      <td>9.911798e+06</td>\n",
       "      <td>259109.000000</td>\n",
       "      <td>224000.000000</td>\n",
       "      <td>2.000000e+06</td>\n",
       "      <td>29.990000</td>\n",
       "    </tr>\n",
       "  </tbody>\n",
       "</table>\n",
       "</div>"
      ],
      "text/plain": [
       "       rating_score   num_ratings    num_reviews  current_readers  \\\n",
       "count   3789.000000  3.789000e+03    3789.000000      3789.000000   \n",
       "mean       4.014217  1.556831e+05    9396.448139      5645.721298   \n",
       "std        0.238460  4.192413e+05   19363.083203     13204.933050   \n",
       "min        2.970000  4.100000e+01       6.000000         2.000000   \n",
       "25%        3.860000  1.601500e+04     870.000000       478.000000   \n",
       "50%        4.020000  4.869600e+04    2788.000000      1388.000000   \n",
       "75%        4.170000  1.277410e+05    8912.000000      4550.000000   \n",
       "max        4.760000  9.911798e+06  259109.000000    224000.000000   \n",
       "\n",
       "       want_to_read        price  \n",
       "count  3.789000e+03  3789.000000  \n",
       "mean   9.375439e+04     8.994059  \n",
       "std    1.779952e+05     4.397353  \n",
       "min    3.000000e+00     0.000000  \n",
       "25%    8.018000e+03     6.990000  \n",
       "50%    2.620000e+04     9.990000  \n",
       "75%    9.870000e+04    11.990000  \n",
       "max    2.000000e+06    29.990000  "
      ]
     },
     "execution_count": 8,
     "metadata": {},
     "output_type": "execute_result"
    }
   ],
   "source": [
    "df2.describe()"
   ]
  },
  {
   "cell_type": "code",
   "execution_count": 9,
   "id": "4363eebc",
   "metadata": {
    "execution": {
     "iopub.execute_input": "2024-02-24T21:50:06.416075Z",
     "iopub.status.busy": "2024-02-24T21:50:06.415643Z",
     "iopub.status.idle": "2024-02-24T21:50:06.996030Z",
     "shell.execute_reply": "2024-02-24T21:50:06.994821Z"
    },
    "papermill": {
     "duration": 0.600031,
     "end_time": "2024-02-24T21:50:06.998660",
     "exception": false,
     "start_time": "2024-02-24T21:50:06.398629",
     "status": "completed"
    },
    "tags": []
   },
   "outputs": [
    {
     "data": {
      "text/plain": [
       "<Axes: title={'center': 'Price distribution'}, xlabel='price', ylabel='Count'>"
      ]
     },
     "execution_count": 9,
     "metadata": {},
     "output_type": "execute_result"
    },
    {
     "data": {
      "image/png": "[encoded data removed]",
      "text/plain": [
       "<Figure size 1000x700 with 1 Axes>"
      ]
     },
     "metadata": {},
     "output_type": "display_data"
    }
   ],
   "source": [
    "plt.figure(figsize=(10,7))\n",
    "plt.title('Price distribution')\n",
    "sns.histplot(df2,x='price',kde=True,alpha=0.6,bins=20,linewidth=2)"
   ]
  },
  {
   "cell_type": "markdown",
   "id": "b39e17ae",
   "metadata": {
    "papermill": {
     "duration": 0.016447,
     "end_time": "2024-02-24T21:50:07.031797",
     "exception": false,
     "start_time": "2024-02-24T21:50:07.015350",
     "status": "completed"
    },
    "tags": []
   },
   "source": [
    "Analyzing the distribution of prices in a dataset can provide insights into the pricing structure, identifying common price points, and understanding the overall spread of prices. We can see that most of the books are sold around 9-10 dollars. You remember 9.99$ trick?"
   ]
  },
  {
   "cell_type": "markdown",
   "id": "959abcb2",
   "metadata": {
    "papermill": {
     "duration": 0.016304,
     "end_time": "2024-02-24T21:50:07.064188",
     "exception": false,
     "start_time": "2024-02-24T21:50:07.047884",
     "status": "completed"
    },
    "tags": []
   },
   "source": [
    "# Popular Genres and Authors:\n",
    "Identifying the most popular books and authors based on their current readers in order to understand user preferences.\n"
   ]
  },
  {
   "cell_type": "code",
   "execution_count": 10,
   "id": "983231d4",
   "metadata": {
    "execution": {
     "iopub.execute_input": "2024-02-24T21:50:07.099703Z",
     "iopub.status.busy": "2024-02-24T21:50:07.099075Z",
     "iopub.status.idle": "2024-02-24T21:50:07.411798Z",
     "shell.execute_reply": "2024-02-24T21:50:07.410612Z"
    },
    "papermill": {
     "duration": 0.334088,
     "end_time": "2024-02-24T21:50:07.414407",
     "exception": false,
     "start_time": "2024-02-24T21:50:07.080319",
     "status": "completed"
    },
    "tags": []
   },
   "outputs": [
    {
     "data": {
      "image/png": "[encoded data removed]",
      "text/plain": [
       "<Figure size 1000x600 with 1 Axes>"
      ]
     },
     "metadata": {},
     "output_type": "display_data"
    }
   ],
   "source": [
    "topauthors=pd.pivot_table(df2,index='authors',values='current_readers',aggfunc='sum')\n",
    "topauthors=topauthors.sort_values(by='current_readers',ascending=False).head()\n",
    "topauthors=topauthors.sort_values(by='current_readers',ascending=True)\n",
    "p1=topauthors.plot(kind='barh',figsize=(10,6),title=\"Top books' authors\",edgecolor = 'black',lw=2)\n",
    "p1.bar_label(p1.containers[0], label_type='edge',padding=0.5, bbox={\"boxstyle\": \"round\", \"pad\": 0.6, \"facecolor\": \"white\", \"edgecolor\": \"#1c1c1c\", \"linewidth\" : 2.5, \"alpha\": 1})\n",
    "plt.show()"
   ]
  },
  {
   "cell_type": "code",
   "execution_count": 11,
   "id": "8cfb508a",
   "metadata": {
    "execution": {
     "iopub.execute_input": "2024-02-24T21:50:07.451976Z",
     "iopub.status.busy": "2024-02-24T21:50:07.451191Z",
     "iopub.status.idle": "2024-02-24T21:50:07.755477Z",
     "shell.execute_reply": "2024-02-24T21:50:07.754310Z"
    },
    "papermill": {
     "duration": 0.326187,
     "end_time": "2024-02-24T21:50:07.758690",
     "exception": false,
     "start_time": "2024-02-24T21:50:07.432503",
     "status": "completed"
    },
    "tags": []
   },
   "outputs": [
    {
     "data": {
      "image/png": "[encoded data removed]",
      "text/plain": [
       "<Figure size 1000x600 with 1 Axes>"
      ]
     },
     "metadata": {},
     "output_type": "display_data"
    }
   ],
   "source": [
    "topbooks=pd.pivot_table(df2,index='title',values='current_readers')\n",
    "topbooks=topbooks.sort_values(by='current_readers',ascending=False).head()\n",
    "topbooks=topbooks.sort_values(by='current_readers',ascending=True)\n",
    "p2=topbooks.plot(kind='barh',figsize=(10,6),title='Top books ',edgecolor = 'black',lw=2)\n",
    "p2.bar_label(p2.containers[0], label_type='edge',padding=0.5, bbox={\"boxstyle\": \"round\", \"pad\": 0.6, \"facecolor\": \"white\", \"edgecolor\": \"#1c1c1c\", \"linewidth\" : 2.5, \"alpha\": 1})\n",
    "plt.show()"
   ]
  },
  {
   "cell_type": "markdown",
   "id": "82e22ccb",
   "metadata": {
    "papermill": {
     "duration": 0.017272,
     "end_time": "2024-02-24T21:50:07.794355",
     "exception": false,
     "start_time": "2024-02-24T21:50:07.777083",
     "status": "completed"
    },
    "tags": []
   },
   "source": [
    "# Rating Distribution:\n",
    "Analyzing the distribution of book ratings. Identifyig if there is a common rating range and explore factors influencing higher or lower ratings."
   ]
  },
  {
   "cell_type": "code",
   "execution_count": 12,
   "id": "50c4b460",
   "metadata": {
    "execution": {
     "iopub.execute_input": "2024-02-24T21:50:07.890767Z",
     "iopub.status.busy": "2024-02-24T21:50:07.890342Z",
     "iopub.status.idle": "2024-02-24T21:50:08.335864Z",
     "shell.execute_reply": "2024-02-24T21:50:08.334519Z"
    },
    "papermill": {
     "duration": 0.467455,
     "end_time": "2024-02-24T21:50:08.338719",
     "exception": false,
     "start_time": "2024-02-24T21:50:07.871264",
     "status": "completed"
    },
    "tags": []
   },
   "outputs": [
    {
     "data": {
      "text/plain": [
       "<Axes: title={'center': 'Rating distribution'}, xlabel='rating_score', ylabel='Count'>"
      ]
     },
     "execution_count": 12,
     "metadata": {},
     "output_type": "execute_result"
    },
    {
     "data": {
      "image/png": "[encoded data removed]",
      "text/plain": [
       "<Figure size 1000x700 with 1 Axes>"
      ]
     },
     "metadata": {},
     "output_type": "display_data"
    }
   ],
   "source": [
    "plt.figure(figsize=(10,7))\n",
    "plt.title('Rating distribution')\n",
    "sns.histplot(df2,x='rating_score',kde=True,alpha=0.6,bins=20,linewidth=2)"
   ]
  },
  {
   "cell_type": "markdown",
   "id": "65d19944",
   "metadata": {
    "papermill": {
     "duration": 0.01841,
     "end_time": "2024-02-24T21:50:08.376319",
     "exception": false,
     "start_time": "2024-02-24T21:50:08.357909",
     "status": "completed"
    },
    "tags": []
   },
   "source": [
    "**Top books' languages by their current readers:**"
   ]
  },
  {
   "cell_type": "code",
   "execution_count": 13,
   "id": "2f8bd0f0",
   "metadata": {
    "execution": {
     "iopub.execute_input": "2024-02-24T21:50:08.418558Z",
     "iopub.status.busy": "2024-02-24T21:50:08.417111Z",
     "iopub.status.idle": "2024-02-24T21:50:08.436555Z",
     "shell.execute_reply": "2024-02-24T21:50:08.435347Z"
    },
    "papermill": {
     "duration": 0.044108,
     "end_time": "2024-02-24T21:50:08.439784",
     "exception": false,
     "start_time": "2024-02-24T21:50:08.395676",
     "status": "completed"
    },
    "tags": []
   },
   "outputs": [
    {
     "data": {
      "text/html": [
       "<div>\n",
       "<style scoped>\n",
       "    .dataframe tbody tr th:only-of-type {\n",
       "        vertical-align: middle;\n",
       "    }\n",
       "\n",
       "    .dataframe tbody tr th {\n",
       "        vertical-align: top;\n",
       "    }\n",
       "\n",
       "    .dataframe thead th {\n",
       "        text-align: right;\n",
       "    }\n",
       "</style>\n",
       "<table border=\"1\" class=\"dataframe\">\n",
       "  <thead>\n",
       "    <tr style=\"text-align: right;\">\n",
       "      <th></th>\n",
       "      <th>current_readers</th>\n",
       "    </tr>\n",
       "    <tr>\n",
       "      <th>language</th>\n",
       "      <th></th>\n",
       "    </tr>\n",
       "  </thead>\n",
       "  <tbody>\n",
       "    <tr>\n",
       "      <th>English</th>\n",
       "      <td>21302221.0</td>\n",
       "    </tr>\n",
       "    <tr>\n",
       "      <th>French</th>\n",
       "      <td>49048.0</td>\n",
       "    </tr>\n",
       "    <tr>\n",
       "      <th>Spanish; Castilian</th>\n",
       "      <td>16723.0</td>\n",
       "    </tr>\n",
       "    <tr>\n",
       "      <th>German</th>\n",
       "      <td>11699.0</td>\n",
       "    </tr>\n",
       "    <tr>\n",
       "      <th>Danish</th>\n",
       "      <td>7367.0</td>\n",
       "    </tr>\n",
       "  </tbody>\n",
       "</table>\n",
       "</div>"
      ],
      "text/plain": [
       "                    current_readers\n",
       "language                           \n",
       "English                  21302221.0\n",
       "French                      49048.0\n",
       "Spanish; Castilian          16723.0\n",
       "German                      11699.0\n",
       "Danish                       7367.0"
      ]
     },
     "execution_count": 13,
     "metadata": {},
     "output_type": "execute_result"
    }
   ],
   "source": [
    "sex=pd.pivot_table(df2,index='language',values='current_readers',aggfunc='sum').sort_values(by='current_readers',ascending=False).head(5)\n",
    "sex"
   ]
  },
  {
   "cell_type": "markdown",
   "id": "be6c8269",
   "metadata": {
    "papermill": {
     "duration": 0.019466,
     "end_time": "2024-02-24T21:50:08.482426",
     "exception": false,
     "start_time": "2024-02-24T21:50:08.462960",
     "status": "completed"
    },
    "tags": []
   },
   "source": [
    "# Data Correlation:"
   ]
  },
  {
   "cell_type": "code",
   "execution_count": 14,
   "id": "84fd791c",
   "metadata": {
    "execution": {
     "iopub.execute_input": "2024-02-24T21:50:08.530901Z",
     "iopub.status.busy": "2024-02-24T21:50:08.530432Z",
     "iopub.status.idle": "2024-02-24T21:50:08.888416Z",
     "shell.execute_reply": "2024-02-24T21:50:08.887253Z"
    },
    "papermill": {
     "duration": 0.385415,
     "end_time": "2024-02-24T21:50:08.891016",
     "exception": false,
     "start_time": "2024-02-24T21:50:08.505601",
     "status": "completed"
    },
    "tags": []
   },
   "outputs": [
    {
     "data": {
      "text/plain": [
       "<Axes: title={'center': 'Book rating score and the number of readers'}, xlabel='rating_score', ylabel='current_readers'>"
      ]
     },
     "execution_count": 14,
     "metadata": {},
     "output_type": "execute_result"
    },
    {
     "data": {
      "image/png": "[encoded data removed]",
      "text/plain": [
       "<Figure size 900x600 with 1 Axes>"
      ]
     },
     "metadata": {},
     "output_type": "display_data"
    }
   ],
   "source": [
    "df2.plot(kind='scatter', x='rating_score', y='current_readers',figsize=(9,6),s=30,title='Book rating score and the number of readers')\n"
   ]
  },
  {
   "cell_type": "markdown",
   "id": "40e35b02",
   "metadata": {
    "papermill": {
     "duration": 0.019741,
     "end_time": "2024-02-24T21:50:08.931443",
     "exception": false,
     "start_time": "2024-02-24T21:50:08.911702",
     "status": "completed"
    },
    "tags": []
   },
   "source": [
    "A scatter plot is created to visualize the relationship between book rating score and the number of readers. We can see a slight positive  correlation between rating score and its current readers. So we need to discover more stronger correlation between data variables."
   ]
  },
  {
   "cell_type": "code",
   "execution_count": 15,
   "id": "4d179a7b",
   "metadata": {
    "execution": {
     "iopub.execute_input": "2024-02-24T21:50:08.973784Z",
     "iopub.status.busy": "2024-02-24T21:50:08.973035Z",
     "iopub.status.idle": "2024-02-24T21:50:09.444422Z",
     "shell.execute_reply": "2024-02-24T21:50:09.443227Z"
    },
    "papermill": {
     "duration": 0.495913,
     "end_time": "2024-02-24T21:50:09.447328",
     "exception": false,
     "start_time": "2024-02-24T21:50:08.951415",
     "status": "completed"
    },
    "tags": []
   },
   "outputs": [
    {
     "data": {
      "text/plain": [
       "<Axes: >"
      ]
     },
     "execution_count": 15,
     "metadata": {},
     "output_type": "execute_result"
    },
    {
     "data": {
      "image/png": "[encoded data removed]",
      "text/plain": [
       "<Figure size 900x600 with 2 Axes>"
      ]
     },
     "metadata": {},
     "output_type": "display_data"
    }
   ],
   "source": [
    "dfcorr=df2[['rating_score','num_ratings','num_reviews','current_readers','want_to_read','price']]\n",
    "plt.figure(figsize=(9,6))\n",
    "sns.heatmap(dfcorr.corr(), annot = True, cmap= 'YlGnBu', fmt= '.2f')"
   ]
  },
  {
   "cell_type": "markdown",
   "id": "51b77a54",
   "metadata": {
    "papermill": {
     "duration": 0.020527,
     "end_time": "2024-02-24T21:50:09.488858",
     "exception": false,
     "start_time": "2024-02-24T21:50:09.468331",
     "status": "completed"
    },
    "tags": []
   },
   "source": [
    "The corr() method is used to calculate the Pearson correlation coefficient between the 'Rating' and 'Number of readers' columns. We can see astrong positive  correlation between the current readers number, the number of reviews, the number of rating and the number of people who want to read the book. That's mean the customers pay attention to the number of reviews, the number of rating and also their current readers in order to chose the book.\n",
    "\n"
   ]
  },
  {
   "cell_type": "markdown",
   "id": "e19a9906",
   "metadata": {
    "papermill": {
     "duration": 0.02034,
     "end_time": "2024-02-24T21:50:09.530519",
     "exception": false,
     "start_time": "2024-02-24T21:50:09.510179",
     "status": "completed"
    },
    "tags": []
   },
   "source": [
    "# Book recommendation system:"
   ]
  },
  {
   "cell_type": "markdown",
   "id": "94b936ca",
   "metadata": {
    "papermill": {
     "duration": 0.020559,
     "end_time": "2024-02-24T21:50:09.572180",
     "exception": false,
     "start_time": "2024-02-24T21:50:09.551621",
     "status": "completed"
    },
    "tags": []
   },
   "source": [
    "A Book Recommendation System is a type of software application or algorithm designed to provide personalized suggestions for books to users based on their preferences, behavior, and historical interactions with books. The goal is to assist users in discovering new books that align with their tastes and interests. Recommendation systems are widely used in various online platforms, including e-commerce websites, streaming services, and book-related websites like Goodreads.\n",
    "First, I would repeat the  previous data processing steps before digging into the recommendation system:\n"
   ]
  },
  {
   "cell_type": "code",
   "execution_count": 16,
   "id": "139007c1",
   "metadata": {
    "execution": {
     "iopub.execute_input": "2024-02-24T21:50:09.615336Z",
     "iopub.status.busy": "2024-02-24T21:50:09.614898Z",
     "iopub.status.idle": "2024-02-24T21:50:09.660926Z",
     "shell.execute_reply": "2024-02-24T21:50:09.659771Z"
    },
    "papermill": {
     "duration": 0.071151,
     "end_time": "2024-02-24T21:50:09.663903",
     "exception": false,
     "start_time": "2024-02-24T21:50:09.592752",
     "status": "completed"
    },
    "tags": []
   },
   "outputs": [
    {
     "data": {
      "text/plain": [
       "Unnamed: 0               0\n",
       "isbn                     0\n",
       "title                    0\n",
       "series_title             0\n",
       "series_release_number    0\n",
       "authors                  0\n",
       "publisher                0\n",
       "language                 0\n",
       "description              0\n",
       "num_pages                0\n",
       "format                   0\n",
       "genres                   0\n",
       "publication_date         0\n",
       "rating_score             0\n",
       "num_ratings              0\n",
       "num_reviews              0\n",
       "current_readers          0\n",
       "want_to_read             0\n",
       "price                    0\n",
       "url                      0\n",
       "dtype: int64"
      ]
     },
     "execution_count": 16,
     "metadata": {},
     "output_type": "execute_result"
    }
   ],
   "source": [
    "df=df.drop_duplicates()\n",
    "df=df.dropna()\n",
    "df.isnull().sum()"
   ]
  },
  {
   "cell_type": "markdown",
   "id": "21e0f747",
   "metadata": {
    "papermill": {
     "duration": 0.020848,
     "end_time": "2024-02-24T21:50:09.706120",
     "exception": false,
     "start_time": "2024-02-24T21:50:09.685272",
     "status": "completed"
    },
    "tags": []
   },
   "source": [
    "Let's keep the columns we need only"
   ]
  },
  {
   "cell_type": "code",
   "execution_count": 17,
   "id": "093782cd",
   "metadata": {
    "execution": {
     "iopub.execute_input": "2024-02-24T21:50:09.749909Z",
     "iopub.status.busy": "2024-02-24T21:50:09.749443Z",
     "iopub.status.idle": "2024-02-24T21:50:09.756238Z",
     "shell.execute_reply": "2024-02-24T21:50:09.755388Z"
    },
    "papermill": {
     "duration": 0.031795,
     "end_time": "2024-02-24T21:50:09.758888",
     "exception": false,
     "start_time": "2024-02-24T21:50:09.727093",
     "status": "completed"
    },
    "tags": []
   },
   "outputs": [],
   "source": [
    "df=df[['title','authors','description','genres']]"
   ]
  },
  {
   "cell_type": "markdown",
   "id": "c82909d0",
   "metadata": {
    "papermill": {
     "duration": 0.020699,
     "end_time": "2024-02-24T21:50:09.800353",
     "exception": false,
     "start_time": "2024-02-24T21:50:09.779654",
     "status": "completed"
    },
    "tags": []
   },
   "source": [
    "Concatenating the vectorized genre and description features. This step combines both types of information into a single feature representation for each book."
   ]
  },
  {
   "cell_type": "code",
   "execution_count": 18,
   "id": "0d0538d6",
   "metadata": {
    "execution": {
     "iopub.execute_input": "2024-02-24T21:50:09.844315Z",
     "iopub.status.busy": "2024-02-24T21:50:09.843932Z",
     "iopub.status.idle": "2024-02-24T21:50:09.852611Z",
     "shell.execute_reply": "2024-02-24T21:50:09.851324Z"
    },
    "papermill": {
     "duration": 0.033635,
     "end_time": "2024-02-24T21:50:09.855072",
     "exception": false,
     "start_time": "2024-02-24T21:50:09.821437",
     "status": "completed"
    },
    "tags": []
   },
   "outputs": [],
   "source": [
    "df['tags']= df['authors']+df['genres']+df['description']"
   ]
  },
  {
   "cell_type": "code",
   "execution_count": 19,
   "id": "2220dbed",
   "metadata": {
    "execution": {
     "iopub.execute_input": "2024-02-24T21:50:09.900124Z",
     "iopub.status.busy": "2024-02-24T21:50:09.899149Z",
     "iopub.status.idle": "2024-02-24T21:50:09.911440Z",
     "shell.execute_reply": "2024-02-24T21:50:09.910501Z"
    },
    "papermill": {
     "duration": 0.037649,
     "end_time": "2024-02-24T21:50:09.913755",
     "exception": false,
     "start_time": "2024-02-24T21:50:09.876106",
     "status": "completed"
    },
    "tags": []
   },
   "outputs": [
    {
     "data": {
      "text/html": [
       "<div>\n",
       "<style scoped>\n",
       "    .dataframe tbody tr th:only-of-type {\n",
       "        vertical-align: middle;\n",
       "    }\n",
       "\n",
       "    .dataframe tbody tr th {\n",
       "        vertical-align: top;\n",
       "    }\n",
       "\n",
       "    .dataframe thead th {\n",
       "        text-align: right;\n",
       "    }\n",
       "</style>\n",
       "<table border=\"1\" class=\"dataframe\">\n",
       "  <thead>\n",
       "    <tr style=\"text-align: right;\">\n",
       "      <th></th>\n",
       "      <th>title</th>\n",
       "      <th>authors</th>\n",
       "      <th>description</th>\n",
       "      <th>genres</th>\n",
       "      <th>tags</th>\n",
       "    </tr>\n",
       "  </thead>\n",
       "  <tbody>\n",
       "    <tr>\n",
       "      <th>0</th>\n",
       "      <td>Summer Story</td>\n",
       "      <td>Jill Barklem</td>\n",
       "      <td>It was such a hot summer. The sky was deep blu...</td>\n",
       "      <td>['Picture Books', 'Childrens', 'Fiction', 'Ani...</td>\n",
       "      <td>Jill Barklem['Picture Books', 'Childrens', 'Fi...</td>\n",
       "    </tr>\n",
       "    <tr>\n",
       "      <th>2</th>\n",
       "      <td>Beyond the Blue Event Horizon</td>\n",
       "      <td>Frederik Pohl</td>\n",
       "      <td>In Book Two of the Heechee Saga, Robinette Bro...</td>\n",
       "      <td>['Science Fiction', 'Fiction', 'Space Opera', ...</td>\n",
       "      <td>Frederik Pohl['Science Fiction', 'Fiction', 'S...</td>\n",
       "    </tr>\n",
       "    <tr>\n",
       "      <th>3</th>\n",
       "      <td>St. Peter's Fair</td>\n",
       "      <td>Ellis Peters</td>\n",
       "      <td>A pause in the civil war offers Shrewsbury's t...</td>\n",
       "      <td>['Mystery', 'Historical Fiction', 'Fiction', '...</td>\n",
       "      <td>Ellis Peters['Mystery', 'Historical Fiction', ...</td>\n",
       "    </tr>\n",
       "    <tr>\n",
       "      <th>7</th>\n",
       "      <td>Pawn of Prophecy</td>\n",
       "      <td>David Eddings</td>\n",
       "      <td>BOOK 1 OF THE BELGARIAD, the worldwide bestsel...</td>\n",
       "      <td>['Fantasy', 'Fiction', 'Epic Fantasy', 'High F...</td>\n",
       "      <td>David Eddings['Fantasy', 'Fiction', 'Epic Fant...</td>\n",
       "    </tr>\n",
       "    <tr>\n",
       "      <th>8</th>\n",
       "      <td>Pacific Vortex!</td>\n",
       "      <td>Clive Cussler</td>\n",
       "      <td>Dirk Pitt, death-defying adventurer and deep-s...</td>\n",
       "      <td>['Adventure', 'Fiction', 'Thriller', 'Action',...</td>\n",
       "      <td>Clive Cussler['Adventure', 'Fiction', 'Thrille...</td>\n",
       "    </tr>\n",
       "  </tbody>\n",
       "</table>\n",
       "</div>"
      ],
      "text/plain": [
       "                            title        authors  \\\n",
       "0                   Summer Story    Jill Barklem   \n",
       "2  Beyond the Blue Event Horizon   Frederik Pohl   \n",
       "3               St. Peter's Fair    Ellis Peters   \n",
       "7               Pawn of Prophecy   David Eddings   \n",
       "8                Pacific Vortex!   Clive Cussler   \n",
       "\n",
       "                                         description  \\\n",
       "0  It was such a hot summer. The sky was deep blu...   \n",
       "2  In Book Two of the Heechee Saga, Robinette Bro...   \n",
       "3  A pause in the civil war offers Shrewsbury's t...   \n",
       "7  BOOK 1 OF THE BELGARIAD, the worldwide bestsel...   \n",
       "8  Dirk Pitt, death-defying adventurer and deep-s...   \n",
       "\n",
       "                                              genres  \\\n",
       "0  ['Picture Books', 'Childrens', 'Fiction', 'Ani...   \n",
       "2  ['Science Fiction', 'Fiction', 'Space Opera', ...   \n",
       "3  ['Mystery', 'Historical Fiction', 'Fiction', '...   \n",
       "7  ['Fantasy', 'Fiction', 'Epic Fantasy', 'High F...   \n",
       "8  ['Adventure', 'Fiction', 'Thriller', 'Action',...   \n",
       "\n",
       "                                                tags  \n",
       "0  Jill Barklem['Picture Books', 'Childrens', 'Fi...  \n",
       "2  Frederik Pohl['Science Fiction', 'Fiction', 'S...  \n",
       "3  Ellis Peters['Mystery', 'Historical Fiction', ...  \n",
       "7  David Eddings['Fantasy', 'Fiction', 'Epic Fant...  \n",
       "8  Clive Cussler['Adventure', 'Fiction', 'Thrille...  "
      ]
     },
     "execution_count": 19,
     "metadata": {},
     "output_type": "execute_result"
    }
   ],
   "source": [
    "df.head()"
   ]
  },
  {
   "cell_type": "markdown",
   "id": "a493be08",
   "metadata": {
    "papermill": {
     "duration": 0.020986,
     "end_time": "2024-02-24T21:50:09.956028",
     "exception": false,
     "start_time": "2024-02-24T21:50:09.935042",
     "status": "completed"
    },
    "tags": []
   },
   "source": [
    "The new tags column need to be processed before, the ',[ and other string need to removed."
   ]
  },
  {
   "cell_type": "code",
   "execution_count": 20,
   "id": "fda40786",
   "metadata": {
    "execution": {
     "iopub.execute_input": "2024-02-24T21:50:10.001065Z",
     "iopub.status.busy": "2024-02-24T21:50:10.000325Z",
     "iopub.status.idle": "2024-02-24T21:50:10.017993Z",
     "shell.execute_reply": "2024-02-24T21:50:10.016790Z"
    },
    "papermill": {
     "duration": 0.043313,
     "end_time": "2024-02-24T21:50:10.020808",
     "exception": false,
     "start_time": "2024-02-24T21:50:09.977495",
     "status": "completed"
    },
    "tags": []
   },
   "outputs": [],
   "source": [
    "s=[\"['\",\"', '\",\"']\"]\n",
    "for i in s:\n",
    "    df['tags'] = df['tags'].str.replace(i, ' ')\n"
   ]
  },
  {
   "cell_type": "markdown",
   "id": "6c4030ff",
   "metadata": {
    "papermill": {
     "duration": 0.021593,
     "end_time": "2024-02-24T21:50:10.063688",
     "exception": false,
     "start_time": "2024-02-24T21:50:10.042095",
     "status": "completed"
    },
    "tags": []
   },
   "source": [
    "Let's keep what we need only"
   ]
  },
  {
   "cell_type": "code",
   "execution_count": 21,
   "id": "75a145bf",
   "metadata": {
    "execution": {
     "iopub.execute_input": "2024-02-24T21:50:10.108606Z",
     "iopub.status.busy": "2024-02-24T21:50:10.108174Z",
     "iopub.status.idle": "2024-02-24T21:50:10.115047Z",
     "shell.execute_reply": "2024-02-24T21:50:10.114041Z"
    },
    "papermill": {
     "duration": 0.032501,
     "end_time": "2024-02-24T21:50:10.117665",
     "exception": false,
     "start_time": "2024-02-24T21:50:10.085164",
     "status": "completed"
    },
    "tags": []
   },
   "outputs": [],
   "source": [
    "df['title'] = df['title'].str.strip()"
   ]
  },
  {
   "cell_type": "code",
   "execution_count": 22,
   "id": "fd670161",
   "metadata": {
    "execution": {
     "iopub.execute_input": "2024-02-24T21:50:10.163528Z",
     "iopub.status.busy": "2024-02-24T21:50:10.162905Z",
     "iopub.status.idle": "2024-02-24T21:50:10.174683Z",
     "shell.execute_reply": "2024-02-24T21:50:10.173833Z"
    },
    "papermill": {
     "duration": 0.037182,
     "end_time": "2024-02-24T21:50:10.176877",
     "exception": false,
     "start_time": "2024-02-24T21:50:10.139695",
     "status": "completed"
    },
    "tags": []
   },
   "outputs": [
    {
     "data": {
      "text/html": [
       "<div>\n",
       "<style scoped>\n",
       "    .dataframe tbody tr th:only-of-type {\n",
       "        vertical-align: middle;\n",
       "    }\n",
       "\n",
       "    .dataframe tbody tr th {\n",
       "        vertical-align: top;\n",
       "    }\n",
       "\n",
       "    .dataframe thead th {\n",
       "        text-align: right;\n",
       "    }\n",
       "</style>\n",
       "<table border=\"1\" class=\"dataframe\">\n",
       "  <thead>\n",
       "    <tr style=\"text-align: right;\">\n",
       "      <th></th>\n",
       "      <th>title</th>\n",
       "      <th>tags</th>\n",
       "    </tr>\n",
       "  </thead>\n",
       "  <tbody>\n",
       "    <tr>\n",
       "      <th>0</th>\n",
       "      <td>Summer Story</td>\n",
       "      <td>Jill Barklem Picture Books Childrens Fiction A...</td>\n",
       "    </tr>\n",
       "    <tr>\n",
       "      <th>2</th>\n",
       "      <td>Beyond the Blue Event Horizon</td>\n",
       "      <td>Frederik Pohl Science Fiction Fiction Space Op...</td>\n",
       "    </tr>\n",
       "    <tr>\n",
       "      <th>3</th>\n",
       "      <td>St. Peter's Fair</td>\n",
       "      <td>Ellis Peters Mystery Historical Fiction Fictio...</td>\n",
       "    </tr>\n",
       "    <tr>\n",
       "      <th>7</th>\n",
       "      <td>Pawn of Prophecy</td>\n",
       "      <td>David Eddings Fantasy Fiction Epic Fantasy Hig...</td>\n",
       "    </tr>\n",
       "    <tr>\n",
       "      <th>8</th>\n",
       "      <td>Pacific Vortex!</td>\n",
       "      <td>Clive Cussler Adventure Fiction Thriller Actio...</td>\n",
       "    </tr>\n",
       "  </tbody>\n",
       "</table>\n",
       "</div>"
      ],
      "text/plain": [
       "                           title  \\\n",
       "0                   Summer Story   \n",
       "2  Beyond the Blue Event Horizon   \n",
       "3               St. Peter's Fair   \n",
       "7               Pawn of Prophecy   \n",
       "8                Pacific Vortex!   \n",
       "\n",
       "                                                tags  \n",
       "0  Jill Barklem Picture Books Childrens Fiction A...  \n",
       "2  Frederik Pohl Science Fiction Fiction Space Op...  \n",
       "3  Ellis Peters Mystery Historical Fiction Fictio...  \n",
       "7  David Eddings Fantasy Fiction Epic Fantasy Hig...  \n",
       "8  Clive Cussler Adventure Fiction Thriller Actio...  "
      ]
     },
     "execution_count": 22,
     "metadata": {},
     "output_type": "execute_result"
    }
   ],
   "source": [
    "df=df[['title','tags']]\n",
    "df.head()"
   ]
  },
  {
   "cell_type": "code",
   "execution_count": 23,
   "id": "fe7c5257",
   "metadata": {
    "execution": {
     "iopub.execute_input": "2024-02-24T21:50:10.223658Z",
     "iopub.status.busy": "2024-02-24T21:50:10.223078Z",
     "iopub.status.idle": "2024-02-24T21:50:10.536078Z",
     "shell.execute_reply": "2024-02-24T21:50:10.535146Z"
    },
    "papermill": {
     "duration": 0.339528,
     "end_time": "2024-02-24T21:50:10.538616",
     "exception": false,
     "start_time": "2024-02-24T21:50:10.199088",
     "status": "completed"
    },
    "tags": []
   },
   "outputs": [],
   "source": [
    "from sklearn.feature_extraction.text import CountVectorizer\n",
    "from sklearn.metrics.pairwise import cosine_similarity"
   ]
  },
  {
   "cell_type": "markdown",
   "id": "38d820d8",
   "metadata": {
    "papermill": {
     "duration": 0.021967,
     "end_time": "2024-02-24T21:50:10.583113",
     "exception": false,
     "start_time": "2024-02-24T21:50:10.561146",
     "status": "completed"
    },
    "tags": []
   },
   "source": [
    "**Text Vectorization:**\n",
    "Converting the preprocessed text data into numerical vectors using CountVectorizer technique"
   ]
  },
  {
   "cell_type": "code",
   "execution_count": 24,
   "id": "4a35b4c8",
   "metadata": {
    "execution": {
     "iopub.execute_input": "2024-02-24T21:50:10.636752Z",
     "iopub.status.busy": "2024-02-24T21:50:10.635869Z",
     "iopub.status.idle": "2024-02-24T21:50:10.642010Z",
     "shell.execute_reply": "2024-02-24T21:50:10.640691Z"
    },
    "papermill": {
     "duration": 0.039191,
     "end_time": "2024-02-24T21:50:10.645570",
     "exception": false,
     "start_time": "2024-02-24T21:50:10.606379",
     "status": "completed"
    },
    "tags": []
   },
   "outputs": [],
   "source": [
    "cv=CountVectorizer(max_features=4398,stop_words='english')"
   ]
  },
  {
   "cell_type": "code",
   "execution_count": 25,
   "id": "6e74d734",
   "metadata": {
    "execution": {
     "iopub.execute_input": "2024-02-24T21:50:10.697190Z",
     "iopub.status.busy": "2024-02-24T21:50:10.696207Z",
     "iopub.status.idle": "2024-02-24T21:50:11.203316Z",
     "shell.execute_reply": "2024-02-24T21:50:11.202347Z"
    },
    "papermill": {
     "duration": 0.534581,
     "end_time": "2024-02-24T21:50:11.206595",
     "exception": false,
     "start_time": "2024-02-24T21:50:10.672014",
     "status": "completed"
    },
    "tags": []
   },
   "outputs": [],
   "source": [
    "vector=cv.fit_transform(df['tags'].values.astype('U')).toarray()"
   ]
  },
  {
   "cell_type": "markdown",
   "id": "78fcabdf",
   "metadata": {
    "papermill": {
     "duration": 0.021597,
     "end_time": "2024-02-24T21:50:11.255098",
     "exception": false,
     "start_time": "2024-02-24T21:50:11.233501",
     "status": "completed"
    },
    "tags": []
   },
   "source": [
    "**Similarity Calculation:**\n",
    "Calculating the similarity between books using cosine similarity or another distance metric. This measures how similar the combined feature vectors of two books are."
   ]
  },
  {
   "cell_type": "code",
   "execution_count": 26,
   "id": "a532ef62",
   "metadata": {
    "execution": {
     "iopub.execute_input": "2024-02-24T21:50:11.301231Z",
     "iopub.status.busy": "2024-02-24T21:50:11.300852Z",
     "iopub.status.idle": "2024-02-24T21:50:11.909677Z",
     "shell.execute_reply": "2024-02-24T21:50:11.907974Z"
    },
    "papermill": {
     "duration": 0.638084,
     "end_time": "2024-02-24T21:50:11.915085",
     "exception": false,
     "start_time": "2024-02-24T21:50:11.277001",
     "status": "completed"
    },
    "tags": []
   },
   "outputs": [],
   "source": [
    "sim=cosine_similarity(vector)"
   ]
  },
  {
   "cell_type": "code",
   "execution_count": 27,
   "id": "6852ddf8",
   "metadata": {
    "execution": {
     "iopub.execute_input": "2024-02-24T21:50:12.021484Z",
     "iopub.status.busy": "2024-02-24T21:50:12.021102Z",
     "iopub.status.idle": "2024-02-24T21:50:12.028555Z",
     "shell.execute_reply": "2024-02-24T21:50:12.027499Z"
    },
    "papermill": {
     "duration": 0.035842,
     "end_time": "2024-02-24T21:50:12.031682",
     "exception": false,
     "start_time": "2024-02-24T21:50:11.995840",
     "status": "completed"
    },
    "tags": []
   },
   "outputs": [],
   "source": [
    "def booksrecommender(book):\n",
    "    index=df[df['title']==book].index[0]\n",
    "    bestmatches = sorted(list(enumerate(sim[index])), reverse=True, key=lambda vector:vector[1])\n",
    "    for i in bestmatches[1:6]:\n",
    "        my_list=df.iloc[i[0]].title\n",
    "        print(my_list)"
   ]
  },
  {
   "cell_type": "markdown",
   "id": "c1fae58b",
   "metadata": {
    "papermill": {
     "duration": 0.021741,
     "end_time": "2024-02-24T21:50:12.080495",
     "exception": false,
     "start_time": "2024-02-24T21:50:12.058754",
     "status": "completed"
    },
    "tags": []
   },
   "source": [
    "# Let's test our recommendation system!\n",
    "Now, all we need to do is to type a book name and the system will suggest 5 similar books. \n"
   ]
  },
  {
   "cell_type": "code",
   "execution_count": 28,
   "id": "9dbda536",
   "metadata": {
    "execution": {
     "iopub.execute_input": "2024-02-24T21:50:12.127429Z",
     "iopub.status.busy": "2024-02-24T21:50:12.126274Z",
     "iopub.status.idle": "2024-02-24T21:50:12.136988Z",
     "shell.execute_reply": "2024-02-24T21:50:12.135520Z"
    },
    "papermill": {
     "duration": 0.036389,
     "end_time": "2024-02-24T21:50:12.139530",
     "exception": false,
     "start_time": "2024-02-24T21:50:12.103141",
     "status": "completed"
    },
    "tags": []
   },
   "outputs": [
    {
     "name": "stdout",
     "output_type": "stream",
     "text": [
      "Olivia\n",
      "Wayside School Gets A Little Stranger\n",
      "A Crown of Swords\n",
      "Chicks in Chainmail\n",
      "Vampires Don't Wear Polka Dots\n"
     ]
    }
   ],
   "source": [
    "booksrecommender(\"Summer Story\")"
   ]
  },
  {
   "cell_type": "markdown",
   "id": "0a61e2bc",
   "metadata": {
    "papermill": {
     "duration": 0.021298,
     "end_time": "2024-02-24T21:50:12.182543",
     "exception": false,
     "start_time": "2024-02-24T21:50:12.161245",
     "status": "completed"
    },
    "tags": []
   },
   "source": [
    "# Conclusion:\n",
    "From our pervious analysis, we can  say that high numbers of reviews and ratings may act as social proof for a book. A large number of positive reviews can validate the quality of the book and influence potential readers positively.  High current readership suggests that many people are actively engaged with the book. In general, new readers may trust books with more reviews and ratings, assuming that a higher number implies a more reliable assessment of the book's quality. This trust can influence their decision to choose a particular book.\n",
    "The built recommendation system will recommends books similar to those a user has shown interest in, based on the content features of the books. Features we used on this model include genres, authors, keywords, or textual descriptions. The system assesses the content of books the user has liked or interacted with and suggests others with similar characteristics.\n",
    "\n",
    "\n",
    "**Let me know about your opinions. if you like this project, please don't forget to upote this notebook!**\n",
    "\n",
    "**Thank you!**"
   ]
  }
 ],
 "metadata": {
  "kaggle": {
   "accelerator": "none",
   "dataSources": [
    {
     "datasetId": 4317826,
     "sourceId": 7655659,
     "sourceType": "datasetVersion"
    }
   ],
   "dockerImageVersionId": 30646,
   "isGpuEnabled": false,
   "isInternetEnabled": true,
   "language": "python",
   "sourceType": "notebook"
  },
  "kernelspec": {
   "display_name": "Python 3",
   "language": "python",
   "name": "python3"
  },
  "language_info": {
   "codemirror_mode": {
    "name": "ipython",
    "version": 3
   },
   "file_extension": ".py",
   "mimetype": "text/x-python",
   "name": "python",
   "nbconvert_exporter": "python",
   "pygments_lexer": "ipython3",
   "version": "3.10.13"
  },
  "papermill": {
   "default_parameters": {},
   "duration": 13.45798,
   "end_time": "2024-02-24T21:50:12.928218",
   "environment_variables": {},
   "exception": null,
   "input_path": "__notebook__.ipynb",
   "output_path": "__notebook__.ipynb",
   "parameters": {},
   "start_time": "2024-02-24T21:49:59.470238",
   "version": "2.5.0"
  }
 },
 "nbformat": 4,
 "nbformat_minor": 5
}

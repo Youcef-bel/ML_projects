{
 "cells": [
  {
   "cell_type": "code",
   "execution_count": 1,
   "id": "40c9a9e0",
   "metadata": {
    "_cell_guid": "b1076dfc-b9ad-4769-8c92-a6c4dae69d19",
    "_uuid": "8f2839f25d086af736a60e9eeb907d3b93b6e0e5",
    "execution": {
     "iopub.execute_input": "2022-12-24T00:28:37.098097Z",
     "iopub.status.busy": "2022-12-24T00:28:37.097627Z",
     "iopub.status.idle": "2022-12-24T00:28:37.118861Z",
     "shell.execute_reply": "2022-12-24T00:28:37.117750Z"
    },
    "papermill": {
     "duration": 0.032036,
     "end_time": "2022-12-24T00:28:37.121867",
     "exception": false,
     "start_time": "2022-12-24T00:28:37.089831",
     "status": "completed"
    },
    "tags": []
   },
   "outputs": [
    {
     "name": "stdout",
     "output_type": "stream",
     "text": [
      "/kaggle/input/marketing-linear-multiple-regression/Marketing_Data.csv\n"
     ]
    }
   ],
   "source": [
    "# This Python 3 environment comes with many helpful analytics libraries installed\n",
    "# It is defined by the kaggle/python Docker image: https://github.com/kaggle/docker-python\n",
    "# For example, here's several helpful packages to load\n",
    "\n",
    "import numpy as np # linear algebra\n",
    "import pandas as pd # data processing, CSV file I/O (e.g. pd.read_csv)\n",
    "\n",
    "# Input data files are available in the read-only \"../input/\" directory\n",
    "# For example, running this (by clicking run or pressing Shift+Enter) will list all files under the input directory\n",
    "\n",
    "import os\n",
    "for dirname, _, filenames in os.walk('/kaggle/input'):\n",
    "    for filename in filenames:\n",
    "        print(os.path.join(dirname, filename))\n",
    "\n",
    "# You can write up to 20GB to the current directory (/kaggle/working/) that gets preserved as output when you create a version using \"Save & Run All\" \n",
    "# You can also write temporary files to /kaggle/temp/, but they won't be saved outside of the current session"
   ]
  },
  {
   "cell_type": "code",
   "execution_count": 2,
   "id": "63b5fb0c",
   "metadata": {
    "execution": {
     "iopub.execute_input": "2022-12-24T00:28:37.134340Z",
     "iopub.status.busy": "2022-12-24T00:28:37.133929Z",
     "iopub.status.idle": "2022-12-24T00:28:38.516860Z",
     "shell.execute_reply": "2022-12-24T00:28:38.515633Z"
    },
    "papermill": {
     "duration": 1.392451,
     "end_time": "2022-12-24T00:28:38.519739",
     "exception": false,
     "start_time": "2022-12-24T00:28:37.127288",
     "status": "completed"
    },
    "tags": []
   },
   "outputs": [],
   "source": [
    "import matplotlib.pyplot as plt\n",
    "import seaborn as sns\n",
    "from sklearn.model_selection import train_test_split\n",
    "from sklearn.linear_model import LinearRegression\n",
    "from sklearn import metrics\n",
    "from sklearn.metrics import r2_score"
   ]
  },
  {
   "cell_type": "code",
   "execution_count": 3,
   "id": "67eda37c",
   "metadata": {
    "execution": {
     "iopub.execute_input": "2022-12-24T00:28:38.532360Z",
     "iopub.status.busy": "2022-12-24T00:28:38.531462Z",
     "iopub.status.idle": "2022-12-24T00:28:38.547347Z",
     "shell.execute_reply": "2022-12-24T00:28:38.546097Z"
    },
    "papermill": {
     "duration": 0.025406,
     "end_time": "2022-12-24T00:28:38.550482",
     "exception": false,
     "start_time": "2022-12-24T00:28:38.525076",
     "status": "completed"
    },
    "tags": []
   },
   "outputs": [],
   "source": [
    "df=pd.read_csv('/kaggle/input/marketing-linear-multiple-regression/Marketing_Data.csv')"
   ]
  },
  {
   "cell_type": "code",
   "execution_count": 4,
   "id": "ad8d1b5b",
   "metadata": {
    "execution": {
     "iopub.execute_input": "2022-12-24T00:28:38.563399Z",
     "iopub.status.busy": "2022-12-24T00:28:38.562426Z",
     "iopub.status.idle": "2022-12-24T00:28:38.585177Z",
     "shell.execute_reply": "2022-12-24T00:28:38.584047Z"
    },
    "papermill": {
     "duration": 0.031604,
     "end_time": "2022-12-24T00:28:38.587533",
     "exception": false,
     "start_time": "2022-12-24T00:28:38.555929",
     "status": "completed"
    },
    "tags": []
   },
   "outputs": [
    {
     "data": {
      "text/html": [
       "<div>\n",
       "<style scoped>\n",
       "    .dataframe tbody tr th:only-of-type {\n",
       "        vertical-align: middle;\n",
       "    }\n",
       "\n",
       "    .dataframe tbody tr th {\n",
       "        vertical-align: top;\n",
       "    }\n",
       "\n",
       "    .dataframe thead th {\n",
       "        text-align: right;\n",
       "    }\n",
       "</style>\n",
       "<table border=\"1\" class=\"dataframe\">\n",
       "  <thead>\n",
       "    <tr style=\"text-align: right;\">\n",
       "      <th></th>\n",
       "      <th>youtube</th>\n",
       "      <th>facebook</th>\n",
       "      <th>newspaper</th>\n",
       "      <th>sales</th>\n",
       "    </tr>\n",
       "  </thead>\n",
       "  <tbody>\n",
       "    <tr>\n",
       "      <th>0</th>\n",
       "      <td>84.72</td>\n",
       "      <td>19.20</td>\n",
       "      <td>48.96</td>\n",
       "      <td>12.60</td>\n",
       "    </tr>\n",
       "    <tr>\n",
       "      <th>1</th>\n",
       "      <td>351.48</td>\n",
       "      <td>33.96</td>\n",
       "      <td>51.84</td>\n",
       "      <td>25.68</td>\n",
       "    </tr>\n",
       "    <tr>\n",
       "      <th>2</th>\n",
       "      <td>135.48</td>\n",
       "      <td>20.88</td>\n",
       "      <td>46.32</td>\n",
       "      <td>14.28</td>\n",
       "    </tr>\n",
       "    <tr>\n",
       "      <th>3</th>\n",
       "      <td>116.64</td>\n",
       "      <td>1.80</td>\n",
       "      <td>36.00</td>\n",
       "      <td>11.52</td>\n",
       "    </tr>\n",
       "    <tr>\n",
       "      <th>4</th>\n",
       "      <td>318.72</td>\n",
       "      <td>24.00</td>\n",
       "      <td>0.36</td>\n",
       "      <td>20.88</td>\n",
       "    </tr>\n",
       "  </tbody>\n",
       "</table>\n",
       "</div>"
      ],
      "text/plain": [
       "   youtube  facebook  newspaper  sales\n",
       "0    84.72     19.20      48.96  12.60\n",
       "1   351.48     33.96      51.84  25.68\n",
       "2   135.48     20.88      46.32  14.28\n",
       "3   116.64      1.80      36.00  11.52\n",
       "4   318.72     24.00       0.36  20.88"
      ]
     },
     "execution_count": 4,
     "metadata": {},
     "output_type": "execute_result"
    }
   ],
   "source": [
    "df.head()"
   ]
  },
  {
   "cell_type": "code",
   "execution_count": 5,
   "id": "7b87734c",
   "metadata": {
    "execution": {
     "iopub.execute_input": "2022-12-24T00:28:38.600673Z",
     "iopub.status.busy": "2022-12-24T00:28:38.599663Z",
     "iopub.status.idle": "2022-12-24T00:28:38.604774Z",
     "shell.execute_reply": "2022-12-24T00:28:38.603576Z"
    },
    "papermill": {
     "duration": 0.014291,
     "end_time": "2022-12-24T00:28:38.607239",
     "exception": false,
     "start_time": "2022-12-24T00:28:38.592948",
     "status": "completed"
    },
    "tags": []
   },
   "outputs": [],
   "source": [
    "X= df.values[:, 0:3]\n",
    "Y= df.values[:, 3]"
   ]
  },
  {
   "cell_type": "markdown",
   "id": "b2128a1c",
   "metadata": {
    "papermill": {
     "duration": 0.004986,
     "end_time": "2022-12-24T00:28:38.617674",
     "exception": false,
     "start_time": "2022-12-24T00:28:38.612688",
     "status": "completed"
    },
    "tags": []
   },
   "source": [
    "**Plotting Correlation:**"
   ]
  },
  {
   "cell_type": "code",
   "execution_count": 6,
   "id": "f929662c",
   "metadata": {
    "execution": {
     "iopub.execute_input": "2022-12-24T00:28:38.629918Z",
     "iopub.status.busy": "2022-12-24T00:28:38.629214Z",
     "iopub.status.idle": "2022-12-24T00:28:38.938974Z",
     "shell.execute_reply": "2022-12-24T00:28:38.937826Z"
    },
    "papermill": {
     "duration": 0.318946,
     "end_time": "2022-12-24T00:28:38.941713",
     "exception": false,
     "start_time": "2022-12-24T00:28:38.622767",
     "status": "completed"
    },
    "tags": []
   },
   "outputs": [
    {
     "data": {
      "text/plain": [
       "<AxesSubplot:>"
      ]
     },
     "execution_count": 6,
     "metadata": {},
     "output_type": "execute_result"
    },
    {
     "data": {
      "image/png": "[encoded data removed]",
      "text/plain": [
       "<Figure size 432x288 with 2 Axes>"
      ]
     },
     "metadata": {
      "needs_background": "light"
     },
     "output_type": "display_data"
    }
   ],
   "source": [
    "sns.heatmap(df.corr())"
   ]
  },
  {
   "cell_type": "markdown",
   "id": "8035004e",
   "metadata": {
    "papermill": {
     "duration": 0.005419,
     "end_time": "2022-12-24T00:28:38.953250",
     "exception": false,
     "start_time": "2022-12-24T00:28:38.947831",
     "status": "completed"
    },
    "tags": []
   },
   "source": [
    "**Youtube has the highest correlation with Sales**"
   ]
  },
  {
   "cell_type": "code",
   "execution_count": 7,
   "id": "1801250f",
   "metadata": {
    "execution": {
     "iopub.execute_input": "2022-12-24T00:28:38.967539Z",
     "iopub.status.busy": "2022-12-24T00:28:38.967110Z",
     "iopub.status.idle": "2022-12-24T00:28:38.973745Z",
     "shell.execute_reply": "2022-12-24T00:28:38.972701Z"
    },
    "papermill": {
     "duration": 0.017322,
     "end_time": "2022-12-24T00:28:38.976119",
     "exception": false,
     "start_time": "2022-12-24T00:28:38.958797",
     "status": "completed"
    },
    "tags": []
   },
   "outputs": [],
   "source": [
    "X_train, X_test, y_train, y_test = train_test_split(X, Y, test_size = 0.3, random_state = 0)"
   ]
  },
  {
   "cell_type": "code",
   "execution_count": 8,
   "id": "a922f76e",
   "metadata": {
    "execution": {
     "iopub.execute_input": "2022-12-24T00:28:38.988800Z",
     "iopub.status.busy": "2022-12-24T00:28:38.988467Z",
     "iopub.status.idle": "2022-12-24T00:28:38.993452Z",
     "shell.execute_reply": "2022-12-24T00:28:38.992318Z"
    },
    "papermill": {
     "duration": 0.013995,
     "end_time": "2022-12-24T00:28:38.995682",
     "exception": false,
     "start_time": "2022-12-24T00:28:38.981687",
     "status": "completed"
    },
    "tags": []
   },
   "outputs": [],
   "source": [
    "lr= LinearRegression()"
   ]
  },
  {
   "cell_type": "code",
   "execution_count": 9,
   "id": "5dbb8481",
   "metadata": {
    "execution": {
     "iopub.execute_input": "2022-12-24T00:28:39.008706Z",
     "iopub.status.busy": "2022-12-24T00:28:39.008275Z",
     "iopub.status.idle": "2022-12-24T00:28:39.035017Z",
     "shell.execute_reply": "2022-12-24T00:28:39.034253Z"
    },
    "papermill": {
     "duration": 0.035945,
     "end_time": "2022-12-24T00:28:39.037245",
     "exception": false,
     "start_time": "2022-12-24T00:28:39.001300",
     "status": "completed"
    },
    "tags": []
   },
   "outputs": [
    {
     "data": {
      "text/plain": [
       "LinearRegression()"
      ]
     },
     "execution_count": 9,
     "metadata": {},
     "output_type": "execute_result"
    }
   ],
   "source": [
    "lr.fit(X_train,y_train)"
   ]
  },
  {
   "cell_type": "code",
   "execution_count": 10,
   "id": "c7363b17",
   "metadata": {
    "execution": {
     "iopub.execute_input": "2022-12-24T00:28:39.050335Z",
     "iopub.status.busy": "2022-12-24T00:28:39.049644Z",
     "iopub.status.idle": "2022-12-24T00:28:39.055948Z",
     "shell.execute_reply": "2022-12-24T00:28:39.055053Z"
    },
    "papermill": {
     "duration": 0.015208,
     "end_time": "2022-12-24T00:28:39.058154",
     "exception": false,
     "start_time": "2022-12-24T00:28:39.042946",
     "status": "completed"
    },
    "tags": []
   },
   "outputs": [],
   "source": [
    "y_pred = lr.predict(X_test)"
   ]
  },
  {
   "cell_type": "code",
   "execution_count": 11,
   "id": "824d6177",
   "metadata": {
    "execution": {
     "iopub.execute_input": "2022-12-24T00:28:39.071417Z",
     "iopub.status.busy": "2022-12-24T00:28:39.070575Z",
     "iopub.status.idle": "2022-12-24T00:28:39.077065Z",
     "shell.execute_reply": "2022-12-24T00:28:39.075732Z"
    },
    "papermill": {
     "duration": 0.015498,
     "end_time": "2022-12-24T00:28:39.079369",
     "exception": false,
     "start_time": "2022-12-24T00:28:39.063871",
     "status": "completed"
    },
    "tags": []
   },
   "outputs": [
    {
     "name": "stdout",
     "output_type": "stream",
     "text": [
      "[17.52141042 16.23122533 22.97176673 24.76519625 18.38179973  9.79357533\n",
      " 27.59886717 28.82479792 23.01440131 19.02138231 13.2616163  14.23676584\n",
      "  9.12704131 13.16569662 10.17617827 16.10227003 19.90311686 25.7349966\n",
      " 11.94179992 13.87531242 19.66983931 10.95765332 22.159511   27.71784533\n",
      " 20.50488692 11.93980581 19.41153411 15.85023272 23.31629986 20.30444157\n",
      " 25.56649745 18.32920627  6.61987167 20.52480116 19.00096139 11.97165906\n",
      " 23.20178746 13.91952564  8.01037735 15.15006357 23.98848147 21.46639109\n",
      "  9.8746956  11.49303953  8.13513019 19.44690824 16.53737074 17.55118836\n",
      "  7.58148542 18.13851226 12.22319782 28.36376524]\n"
     ]
    }
   ],
   "source": [
    "print(y_pred)"
   ]
  },
  {
   "cell_type": "markdown",
   "id": "3b46a519",
   "metadata": {
    "papermill": {
     "duration": 0.005465,
     "end_time": "2022-12-24T00:28:39.091267",
     "exception": false,
     "start_time": "2022-12-24T00:28:39.085802",
     "status": "completed"
    },
    "tags": []
   },
   "source": [
    "**R squared score:**"
   ]
  },
  {
   "cell_type": "code",
   "execution_count": 12,
   "id": "59444d5a",
   "metadata": {
    "execution": {
     "iopub.execute_input": "2022-12-24T00:28:39.104699Z",
     "iopub.status.busy": "2022-12-24T00:28:39.104055Z",
     "iopub.status.idle": "2022-12-24T00:28:39.108647Z",
     "shell.execute_reply": "2022-12-24T00:28:39.107817Z"
    },
    "papermill": {
     "duration": 0.013889,
     "end_time": "2022-12-24T00:28:39.110813",
     "exception": false,
     "start_time": "2022-12-24T00:28:39.096924",
     "status": "completed"
    },
    "tags": []
   },
   "outputs": [],
   "source": [
    "r2=r2_score(y_test, y_pred)"
   ]
  },
  {
   "cell_type": "code",
   "execution_count": 13,
   "id": "44b550c7",
   "metadata": {
    "execution": {
     "iopub.execute_input": "2022-12-24T00:28:39.124408Z",
     "iopub.status.busy": "2022-12-24T00:28:39.123694Z",
     "iopub.status.idle": "2022-12-24T00:28:39.129895Z",
     "shell.execute_reply": "2022-12-24T00:28:39.129162Z"
    },
    "papermill": {
     "duration": 0.015199,
     "end_time": "2022-12-24T00:28:39.131879",
     "exception": false,
     "start_time": "2022-12-24T00:28:39.116680",
     "status": "completed"
    },
    "tags": []
   },
   "outputs": [
    {
     "data": {
      "text/plain": [
       "0.9290597051219649"
      ]
     },
     "execution_count": 13,
     "metadata": {},
     "output_type": "execute_result"
    }
   ],
   "source": [
    "r2"
   ]
  },
  {
   "cell_type": "code",
   "execution_count": 14,
   "id": "18b42b97",
   "metadata": {
    "execution": {
     "iopub.execute_input": "2022-12-24T00:28:39.145179Z",
     "iopub.status.busy": "2022-12-24T00:28:39.144645Z",
     "iopub.status.idle": "2022-12-24T00:28:39.152681Z",
     "shell.execute_reply": "2022-12-24T00:28:39.151892Z"
    },
    "papermill": {
     "duration": 0.016997,
     "end_time": "2022-12-24T00:28:39.154701",
     "exception": false,
     "start_time": "2022-12-24T00:28:39.137704",
     "status": "completed"
    },
    "tags": []
   },
   "outputs": [],
   "source": [
    "df['sales_pred']= lr.predict(X)"
   ]
  },
  {
   "cell_type": "code",
   "execution_count": 15,
   "id": "e1b9bacf",
   "metadata": {
    "execution": {
     "iopub.execute_input": "2022-12-24T00:28:39.168006Z",
     "iopub.status.busy": "2022-12-24T00:28:39.167461Z",
     "iopub.status.idle": "2022-12-24T00:28:39.174026Z",
     "shell.execute_reply": "2022-12-24T00:28:39.173163Z"
    },
    "papermill": {
     "duration": 0.01581,
     "end_time": "2022-12-24T00:28:39.176325",
     "exception": false,
     "start_time": "2022-12-24T00:28:39.160515",
     "status": "completed"
    },
    "tags": []
   },
   "outputs": [],
   "source": [
    "df['difference']= df['sales']-df['sales_pred']\n",
    "df['difference%']= ((df['sales']-df['sales_pred'])/df['sales'])*100"
   ]
  },
  {
   "cell_type": "code",
   "execution_count": 16,
   "id": "f44cdd79",
   "metadata": {
    "execution": {
     "iopub.execute_input": "2022-12-24T00:28:39.189506Z",
     "iopub.status.busy": "2022-12-24T00:28:39.189158Z",
     "iopub.status.idle": "2022-12-24T00:28:39.224662Z",
     "shell.execute_reply": "2022-12-24T00:28:39.223563Z"
    },
    "papermill": {
     "duration": 0.044788,
     "end_time": "2022-12-24T00:28:39.227078",
     "exception": false,
     "start_time": "2022-12-24T00:28:39.182290",
     "status": "completed"
    },
    "tags": []
   },
   "outputs": [
    {
     "data": {
      "text/html": [
       "<div>\n",
       "<style scoped>\n",
       "    .dataframe tbody tr th:only-of-type {\n",
       "        vertical-align: middle;\n",
       "    }\n",
       "\n",
       "    .dataframe tbody tr th {\n",
       "        vertical-align: top;\n",
       "    }\n",
       "\n",
       "    .dataframe thead th {\n",
       "        text-align: right;\n",
       "    }\n",
       "</style>\n",
       "<table border=\"1\" class=\"dataframe\">\n",
       "  <thead>\n",
       "    <tr style=\"text-align: right;\">\n",
       "      <th></th>\n",
       "      <th>youtube</th>\n",
       "      <th>facebook</th>\n",
       "      <th>newspaper</th>\n",
       "      <th>sales</th>\n",
       "      <th>sales_pred</th>\n",
       "      <th>difference</th>\n",
       "      <th>difference%</th>\n",
       "    </tr>\n",
       "  </thead>\n",
       "  <tbody>\n",
       "    <tr>\n",
       "      <th>count</th>\n",
       "      <td>171.000000</td>\n",
       "      <td>171.000000</td>\n",
       "      <td>171.000000</td>\n",
       "      <td>171.000000</td>\n",
       "      <td>171.000000</td>\n",
       "      <td>171.000000</td>\n",
       "      <td>171.000000</td>\n",
       "    </tr>\n",
       "    <tr>\n",
       "      <th>mean</th>\n",
       "      <td>178.021053</td>\n",
       "      <td>27.671579</td>\n",
       "      <td>35.240000</td>\n",
       "      <td>16.922807</td>\n",
       "      <td>16.854831</td>\n",
       "      <td>0.067976</td>\n",
       "      <td>-3.969953</td>\n",
       "    </tr>\n",
       "    <tr>\n",
       "      <th>std</th>\n",
       "      <td>102.449597</td>\n",
       "      <td>17.913532</td>\n",
       "      <td>24.902918</td>\n",
       "      <td>6.314608</td>\n",
       "      <td>5.839177</td>\n",
       "      <td>1.999572</td>\n",
       "      <td>46.236541</td>\n",
       "    </tr>\n",
       "    <tr>\n",
       "      <th>min</th>\n",
       "      <td>0.840000</td>\n",
       "      <td>0.000000</td>\n",
       "      <td>0.360000</td>\n",
       "      <td>1.920000</td>\n",
       "      <td>4.669839</td>\n",
       "      <td>-10.829047</td>\n",
       "      <td>-564.012859</td>\n",
       "    </tr>\n",
       "    <tr>\n",
       "      <th>25%</th>\n",
       "      <td>91.080000</td>\n",
       "      <td>11.700000</td>\n",
       "      <td>13.740000</td>\n",
       "      <td>12.540000</td>\n",
       "      <td>12.105723</td>\n",
       "      <td>-0.863440</td>\n",
       "      <td>-5.748303</td>\n",
       "    </tr>\n",
       "    <tr>\n",
       "      <th>50%</th>\n",
       "      <td>179.760000</td>\n",
       "      <td>26.760000</td>\n",
       "      <td>31.080000</td>\n",
       "      <td>15.480000</td>\n",
       "      <td>16.610933</td>\n",
       "      <td>0.392769</td>\n",
       "      <td>2.194405</td>\n",
       "    </tr>\n",
       "    <tr>\n",
       "      <th>75%</th>\n",
       "      <td>262.980000</td>\n",
       "      <td>43.680000</td>\n",
       "      <td>50.880000</td>\n",
       "      <td>20.820000</td>\n",
       "      <td>21.151820</td>\n",
       "      <td>1.463836</td>\n",
       "      <td>7.939574</td>\n",
       "    </tr>\n",
       "    <tr>\n",
       "      <th>max</th>\n",
       "      <td>355.680000</td>\n",
       "      <td>59.520000</td>\n",
       "      <td>121.080000</td>\n",
       "      <td>32.400000</td>\n",
       "      <td>29.445994</td>\n",
       "      <td>3.318682</td>\n",
       "      <td>34.205864</td>\n",
       "    </tr>\n",
       "  </tbody>\n",
       "</table>\n",
       "</div>"
      ],
      "text/plain": [
       "          youtube    facebook   newspaper       sales  sales_pred  difference  \\\n",
       "count  171.000000  171.000000  171.000000  171.000000  171.000000  171.000000   \n",
       "mean   178.021053   27.671579   35.240000   16.922807   16.854831    0.067976   \n",
       "std    102.449597   17.913532   24.902918    6.314608    5.839177    1.999572   \n",
       "min      0.840000    0.000000    0.360000    1.920000    4.669839  -10.829047   \n",
       "25%     91.080000   11.700000   13.740000   12.540000   12.105723   -0.863440   \n",
       "50%    179.760000   26.760000   31.080000   15.480000   16.610933    0.392769   \n",
       "75%    262.980000   43.680000   50.880000   20.820000   21.151820    1.463836   \n",
       "max    355.680000   59.520000  121.080000   32.400000   29.445994    3.318682   \n",
       "\n",
       "       difference%  \n",
       "count   171.000000  \n",
       "mean     -3.969953  \n",
       "std      46.236541  \n",
       "min    -564.012859  \n",
       "25%      -5.748303  \n",
       "50%       2.194405  \n",
       "75%       7.939574  \n",
       "max      34.205864  "
      ]
     },
     "execution_count": 16,
     "metadata": {},
     "output_type": "execute_result"
    }
   ],
   "source": [
    "df.describe()"
   ]
  },
  {
   "cell_type": "code",
   "execution_count": 17,
   "id": "25db7aa5",
   "metadata": {
    "execution": {
     "iopub.execute_input": "2022-12-24T00:28:39.241151Z",
     "iopub.status.busy": "2022-12-24T00:28:39.240760Z",
     "iopub.status.idle": "2022-12-24T00:28:39.256034Z",
     "shell.execute_reply": "2022-12-24T00:28:39.254807Z"
    },
    "papermill": {
     "duration": 0.026131,
     "end_time": "2022-12-24T00:28:39.259616",
     "exception": false,
     "start_time": "2022-12-24T00:28:39.233485",
     "status": "completed"
    },
    "tags": []
   },
   "outputs": [
    {
     "data": {
      "text/html": [
       "<div>\n",
       "<style scoped>\n",
       "    .dataframe tbody tr th:only-of-type {\n",
       "        vertical-align: middle;\n",
       "    }\n",
       "\n",
       "    .dataframe tbody tr th {\n",
       "        vertical-align: top;\n",
       "    }\n",
       "\n",
       "    .dataframe thead th {\n",
       "        text-align: right;\n",
       "    }\n",
       "</style>\n",
       "<table border=\"1\" class=\"dataframe\">\n",
       "  <thead>\n",
       "    <tr style=\"text-align: right;\">\n",
       "      <th></th>\n",
       "      <th>youtube</th>\n",
       "      <th>facebook</th>\n",
       "      <th>newspaper</th>\n",
       "      <th>sales</th>\n",
       "      <th>sales_pred</th>\n",
       "      <th>difference</th>\n",
       "      <th>difference%</th>\n",
       "    </tr>\n",
       "  </thead>\n",
       "  <tbody>\n",
       "    <tr>\n",
       "      <th>0</th>\n",
       "      <td>84.72</td>\n",
       "      <td>19.20</td>\n",
       "      <td>48.96</td>\n",
       "      <td>12.60</td>\n",
       "      <td>11.256750</td>\n",
       "      <td>1.343250</td>\n",
       "      <td>10.660717</td>\n",
       "    </tr>\n",
       "    <tr>\n",
       "      <th>1</th>\n",
       "      <td>351.48</td>\n",
       "      <td>33.96</td>\n",
       "      <td>51.84</td>\n",
       "      <td>25.68</td>\n",
       "      <td>25.660168</td>\n",
       "      <td>0.019832</td>\n",
       "      <td>0.077228</td>\n",
       "    </tr>\n",
       "    <tr>\n",
       "      <th>2</th>\n",
       "      <td>135.48</td>\n",
       "      <td>20.88</td>\n",
       "      <td>46.32</td>\n",
       "      <td>14.28</td>\n",
       "      <td>13.773278</td>\n",
       "      <td>0.506722</td>\n",
       "      <td>3.548473</td>\n",
       "    </tr>\n",
       "    <tr>\n",
       "      <th>3</th>\n",
       "      <td>116.64</td>\n",
       "      <td>1.80</td>\n",
       "      <td>36.00</td>\n",
       "      <td>11.52</td>\n",
       "      <td>9.337247</td>\n",
       "      <td>2.182753</td>\n",
       "      <td>18.947512</td>\n",
       "    </tr>\n",
       "    <tr>\n",
       "      <th>4</th>\n",
       "      <td>318.72</td>\n",
       "      <td>24.00</td>\n",
       "      <td>0.36</td>\n",
       "      <td>20.88</td>\n",
       "      <td>22.159511</td>\n",
       "      <td>-1.279511</td>\n",
       "      <td>-6.127926</td>\n",
       "    </tr>\n",
       "  </tbody>\n",
       "</table>\n",
       "</div>"
      ],
      "text/plain": [
       "   youtube  facebook  newspaper  sales  sales_pred  difference  difference%\n",
       "0    84.72     19.20      48.96  12.60   11.256750    1.343250    10.660717\n",
       "1   351.48     33.96      51.84  25.68   25.660168    0.019832     0.077228\n",
       "2   135.48     20.88      46.32  14.28   13.773278    0.506722     3.548473\n",
       "3   116.64      1.80      36.00  11.52    9.337247    2.182753    18.947512\n",
       "4   318.72     24.00       0.36  20.88   22.159511   -1.279511    -6.127926"
      ]
     },
     "execution_count": 17,
     "metadata": {},
     "output_type": "execute_result"
    }
   ],
   "source": [
    "df.head()"
   ]
  }
 ],
 "metadata": {
  "kernelspec": {
   "display_name": "Python 3",
   "language": "python",
   "name": "python3"
  },
  "language_info": {
   "codemirror_mode": {
    "name": "ipython",
    "version": 3
   },
   "file_extension": ".py",
   "mimetype": "text/x-python",
   "name": "python",
   "nbconvert_exporter": "python",
   "pygments_lexer": "ipython3",
   "version": "3.7.12"
  },
  "papermill": {
   "default_parameters": {},
   "duration": 11.378589,
   "end_time": "2022-12-24T00:28:39.989363",
   "environment_variables": {},
   "exception": null,
   "input_path": "__notebook__.ipynb",
   "output_path": "__notebook__.ipynb",
   "parameters": {},
   "start_time": "2022-12-24T00:28:28.610774",
   "version": "2.3.4"
  }
 },
 "nbformat": 4,
 "nbformat_minor": 5
}
